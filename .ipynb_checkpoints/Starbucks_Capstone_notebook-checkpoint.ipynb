{
 "cells": [
  {
   "cell_type": "markdown",
   "metadata": {},
   "source": [
    "# Data Scientist Nanodegree - Starbucks Capstone Challenge"
   ]
  },
  {
   "cell_type": "markdown",
   "metadata": {},
   "source": [
    "# Udacity Instruction Section\n",
    "\n",
    "### Introduction\n",
    "\n",
    "This data set contains simulated data that mimics customer behavior on the Starbucks rewards mobile app. Once every few days, Starbucks sends out an offer to users of the mobile app. An offer can be merely an advertisement for a drink or an actual offer such as a discount or BOGO (buy one get one free). Some users might not receive any offer during certain weeks. \n",
    "\n",
    "Not all users receive the same offer, and that is the challenge to solve with this data set.\n",
    "\n",
    "Your task is to combine transaction, demographic and offer data to determine which demographic groups respond best to which offer type. This data set is a simplified version of the real Starbucks app because the underlying simulator only has one product whereas Starbucks actually sells dozens of products.\n",
    "\n",
    "Every offer has a validity period before the offer expires. As an example, a BOGO offer might be valid for only 5 days. You'll see in the data set that informational offers have a validity period even though these ads are merely providing information about a product; for example, if an informational offer has 7 days of validity, you can assume the customer is feeling the influence of the offer for 7 days after receiving the advertisement.\n",
    "\n",
    "You'll be given transactional data showing user purchases made on the app including the timestamp of purchase and the amount of money spent on a purchase. This transactional data also has a record for each offer that a user receives as well as a record for when a user actually views the offer. There are also records for when a user completes an offer. \n",
    "\n",
    "Keep in mind as well that someone using the app might make a purchase through the app without having received an offer or seen an offer.\n",
    "\n",
    "### Example\n",
    "\n",
    "To give an example, a user could receive a discount offer buy 10 dollars get 2 off on Monday. The offer is valid for 10 days from receipt. If the customer accumulates at least 10 dollars in purchases during the validity period, the customer completes the offer.\n",
    "\n",
    "However, there are a few things to watch out for in this data set. Customers do not opt into the offers that they receive; in other words, a user can receive an offer, never actually view the offer, and still complete the offer. For example, a user might receive the \"buy 10 dollars get 2 dollars off offer\", but the user never opens the offer during the 10 day validity period. The customer spends 15 dollars during those ten days. There will be an offer completion record in the data set; however, the customer was not influenced by the offer because the customer never viewed the offer.\n",
    "\n",
    "### Cleaning\n",
    "\n",
    "This makes data cleaning especially important and tricky.\n",
    "\n",
    "You'll also want to take into account that some demographic groups will make purchases even if they don't receive an offer. From a business perspective, if a customer is going to make a 10 dollar purchase without an offer anyway, you wouldn't want to send a buy 10 dollars get 2 dollars off offer. You'll want to try to assess what a certain demographic group will buy when not receiving any offers.\n",
    "\n",
    "### Final Advice\n",
    "\n",
    "Because this is a capstone project, you are free to analyze the data any way you see fit. For example, you could build a machine learning model that predicts how much someone will spend based on demographics and offer type. Or you could build a model that predicts whether or not someone will respond to an offer. Or, you don't need to build a machine learning model at all. You could develop a set of heuristics that determine what offer you should send to each customer (i.e., 75 percent of women customers who were 35 years old responded to offer A vs 40 percent from the same demographic to offer B, so send offer A)."
   ]
  },
  {
   "cell_type": "markdown",
   "metadata": {},
   "source": [
    "# Data Sets\n",
    "\n",
    "The data is contained in three files:\n",
    "\n",
    "* portfolio.json - containing offer ids and meta data about each offer (duration, type, etc.)\n",
    "* profile.json - demographic data for each customer\n",
    "* transcript.json - records for transactions, offers received, offers viewed, and offers completed\n",
    "\n",
    "Here is the schema and explanation of each variable in the files:\n",
    "\n",
    "**portfolio.json**\n",
    "* id (string) - offer id\n",
    "* offer_type (string) - type of offer ie BOGO, discount, informational\n",
    "* difficulty (int) - minimum required spend to complete an offer\n",
    "* reward (int) - reward given for completing an offer\n",
    "* duration (int) - time for offer to be open, in days\n",
    "* channels (list of strings)\n",
    "\n",
    "**profile.json**\n",
    "* age (int) - age of the customer \n",
    "* became_member_on (int) - date when customer created an app account\n",
    "* gender (str) - gender of the customer (note some entries contain 'O' for other rather than M or F)\n",
    "* id (str) - customer id\n",
    "* income (float) - customer's income\n",
    "\n",
    "**transcript.json**\n",
    "* event (str) - record description (ie transaction, offer received, offer viewed, etc.)\n",
    "* person (str) - customer id\n",
    "* time (int) - time in hours since start of test. The data begins at time t=0\n",
    "* value - (dict of strings) - either an offer id or transaction amount depending on the record\n",
    "\n",
    "**Note:** If you are using the workspace, you will need to go to the terminal and run the command `conda update pandas` before reading in the files. This is because the version of pandas in the workspace cannot read in the transcript.json file correctly, but the newest version of pandas can. You can access the termnal from the orange icon in the top left of this notebook.  \n",
    "\n",
    "You can see how to access the terminal and how the install works using the two images below.  First you need to access the terminal:\n",
    "\n",
    "<img src=\"pic1.png\"/>\n",
    "\n",
    "Then you will want to run the above command:\n",
    "\n",
    "<img src=\"pic2.png\"/>\n",
    "\n",
    "Finally, when you enter back into the notebook (use the jupyter icon again), you should be able to run the below cell without any errors."
   ]
  },
  {
   "cell_type": "markdown",
   "metadata": {},
   "source": [
    "# Starbucks Capstone Project - Student Jupyter Notebook Section\n",
    "#### Mike Durrant"
   ]
  },
  {
   "cell_type": "markdown",
   "metadata": {},
   "source": [
    "## Introduction"
   ]
  },
  {
   "cell_type": "markdown",
   "metadata": {},
   "source": [
    "### Overview"
   ]
  },
  {
   "cell_type": "markdown",
   "metadata": {},
   "source": [
    "This analysis is conducted as the capstone project for my Udacity Data Scientist Nanodegree course.  It is accompanied by a technical blog post here (https://mikedurrantsheffield.medium.com/improving-starbucks-promotional-decisions-with-machine-learning-7fdf8d2f6aff).\n",
    "\n",
    "Starbucks is one of the largest and best known chains of coffee shops in the world with a significant presence in many countries across the globe.  With millions of customers who are part of their membership and loyalty schemes they have enormous amounts of data at their disposal to learn about customer behaviour and drive smarter decision making throughout the business.\n",
    "\n",
    "This project looks at a sample of data that was collected as part of an experiment looking at how various customers respond to different types of promotional offer."
   ]
  },
  {
   "cell_type": "markdown",
   "metadata": {},
   "source": [
    "### Problem Statement"
   ]
  },
  {
   "cell_type": "markdown",
   "metadata": {},
   "source": [
    "For my capstone project I have decided to build a machine learning model that will help Starbucks employ predictive analytics in order to estimate how a particular customer will respond to a particular promotional offer.  This will be of enormous value to the business, and to their customers, as it means they would be able to make their promotional strategy more targeted.  \n",
    "\n",
    "Starbucks benefits since they would not be wasting money contacting the wrong customers for offers, or sending offers to customers who actually would have purchased anyway (or who are actually put off by receiving promotional 'spam').\n",
    "\n",
    "Customers benefit, in that they receive offers that they are actually likely to be interested in and glad to receive, rather than just a blanket sending of offers that are not relevant to many customers.\n",
    "\n",
    "In summary, the problem statement I will answer with this machine learning model is - \"Given details of a certain customer, a certain offer type and the channel of communication, can we predict with high accuracy whether that customer will respond favourably to the offer or not?\"  Ultimately answering the question: \"Should we send this offer to that customer?\""
   ]
  },
  {
   "cell_type": "markdown",
   "metadata": {},
   "source": [
    "### Metrics"
   ]
  },
  {
   "cell_type": "markdown",
   "metadata": {},
   "source": [
    "The classification metric I am focusing on for this project is accuracy.  Specifically the accuracy with which my model can predict the  binary response variable - \"Offer Received Viewed and Completed\".\n",
    "\n",
    "This binary response variable requires a lot of data preprocessing, because it takes care to exclude various customer funnels that should not really be classed as a success in this analysis.  \n",
    "\n",
    "For example, a customer may receive an offer, but never actually view that offer.  If they then go on to complete the offer, we can be clear that their behaviour was not driven by receiving the offer (since they did not know about it) and they would have purchased anyway.  \n",
    "\n",
    "These customers are the ones who Starbucks really do not want to be sending offers to, since the discount that is provided to the 'would-have-purchased-anyway' is completely wasted margin for the business.  It is a nice surprise for the customer at the checkout, but Starbucks did not need to lose that margin.\n",
    "\n",
    "There are many other features that would be interesting to look at from this data, including: Amount spent; Amount spent versus control group; Avg number of transactions versus control group.\n",
    "\n",
    "However, as I am looking at a predictive analytics solution to the question \"Should we send this offer to that customer?\", I am focusing on the \"Offer Received Viewed and Completed\" metric as the key output variable.\n",
    "\n",
    "In terms of assessing the accuracy and validity of the model that I build, I will use cross validation and a train test split to see how accurately the model will predict on new customer and offer data and to check for stability in the training data.\n",
    "\n",
    "Other metrics that I could have used to assess the model performance include precision, recall and F1 score.  In a heavily unbalanced dataset, the accuracy measure is not the best one to use as it will be influenced by the weightings towards one of the quadrants of a confusion matrix.  While the dataset in this analysis is slightly imbalanced towards a negative reponse, it is not so heavily imbalanced as to make accuracy an inappropriate metric."
   ]
  },
  {
   "cell_type": "markdown",
   "metadata": {},
   "source": [
    "## Exploratory data analysis"
   ]
  },
  {
   "cell_type": "code",
   "execution_count": 1,
   "metadata": {},
   "outputs": [],
   "source": [
    "# import all libraries required\n",
    "\n",
    "import pandas as pd\n",
    "import numpy as np\n",
    "import math\n",
    "import json\n",
    "%matplotlib inline\n",
    "from matplotlib import pyplot as plt\n",
    "from sklearn.model_selection import train_test_split\n",
    "from sklearn.tree import DecisionTreeClassifier\n",
    "from sklearn.model_selection import cross_val_score\n",
    "from sklearn.inspection import permutation_importance\n",
    "from sklearn.metrics import confusion_matrix, ConfusionMatrixDisplay\n",
    "from sklearn.ensemble import RandomForestClassifier\n",
    "\n"
   ]
  },
  {
   "cell_type": "code",
   "execution_count": 2,
   "metadata": {},
   "outputs": [],
   "source": [
    "# read in the json files\n",
    "portfolio = pd.read_json('data/portfolio.json', orient='records', lines=True)\n",
    "profile = pd.read_json('data/profile.json', orient='records', lines=True)\n",
    "transcript = pd.read_json('data/transcript.json', orient='records', lines=True)"
   ]
  },
  {
   "cell_type": "markdown",
   "metadata": {},
   "source": [
    "## Portfolio exploration"
   ]
  },
  {
   "cell_type": "code",
   "execution_count": 3,
   "metadata": {
    "scrolled": false
   },
   "outputs": [
    {
     "data": {
      "text/html": [
       "<div>\n",
       "<style scoped>\n",
       "    .dataframe tbody tr th:only-of-type {\n",
       "        vertical-align: middle;\n",
       "    }\n",
       "\n",
       "    .dataframe tbody tr th {\n",
       "        vertical-align: top;\n",
       "    }\n",
       "\n",
       "    .dataframe thead th {\n",
       "        text-align: right;\n",
       "    }\n",
       "</style>\n",
       "<table border=\"1\" class=\"dataframe\">\n",
       "  <thead>\n",
       "    <tr style=\"text-align: right;\">\n",
       "      <th></th>\n",
       "      <th>reward</th>\n",
       "      <th>channels</th>\n",
       "      <th>difficulty</th>\n",
       "      <th>duration</th>\n",
       "      <th>offer_type</th>\n",
       "      <th>id</th>\n",
       "    </tr>\n",
       "  </thead>\n",
       "  <tbody>\n",
       "    <tr>\n",
       "      <th>0</th>\n",
       "      <td>10</td>\n",
       "      <td>[email, mobile, social]</td>\n",
       "      <td>10</td>\n",
       "      <td>7</td>\n",
       "      <td>bogo</td>\n",
       "      <td>ae264e3637204a6fb9bb56bc8210ddfd</td>\n",
       "    </tr>\n",
       "    <tr>\n",
       "      <th>1</th>\n",
       "      <td>10</td>\n",
       "      <td>[web, email, mobile, social]</td>\n",
       "      <td>10</td>\n",
       "      <td>5</td>\n",
       "      <td>bogo</td>\n",
       "      <td>4d5c57ea9a6940dd891ad53e9dbe8da0</td>\n",
       "    </tr>\n",
       "    <tr>\n",
       "      <th>2</th>\n",
       "      <td>0</td>\n",
       "      <td>[web, email, mobile]</td>\n",
       "      <td>0</td>\n",
       "      <td>4</td>\n",
       "      <td>informational</td>\n",
       "      <td>3f207df678b143eea3cee63160fa8bed</td>\n",
       "    </tr>\n",
       "    <tr>\n",
       "      <th>3</th>\n",
       "      <td>5</td>\n",
       "      <td>[web, email, mobile]</td>\n",
       "      <td>5</td>\n",
       "      <td>7</td>\n",
       "      <td>bogo</td>\n",
       "      <td>9b98b8c7a33c4b65b9aebfe6a799e6d9</td>\n",
       "    </tr>\n",
       "    <tr>\n",
       "      <th>4</th>\n",
       "      <td>5</td>\n",
       "      <td>[web, email]</td>\n",
       "      <td>20</td>\n",
       "      <td>10</td>\n",
       "      <td>discount</td>\n",
       "      <td>0b1e1539f2cc45b7b9fa7c272da2e1d7</td>\n",
       "    </tr>\n",
       "    <tr>\n",
       "      <th>5</th>\n",
       "      <td>3</td>\n",
       "      <td>[web, email, mobile, social]</td>\n",
       "      <td>7</td>\n",
       "      <td>7</td>\n",
       "      <td>discount</td>\n",
       "      <td>2298d6c36e964ae4a3e7e9706d1fb8c2</td>\n",
       "    </tr>\n",
       "    <tr>\n",
       "      <th>6</th>\n",
       "      <td>2</td>\n",
       "      <td>[web, email, mobile, social]</td>\n",
       "      <td>10</td>\n",
       "      <td>10</td>\n",
       "      <td>discount</td>\n",
       "      <td>fafdcd668e3743c1bb461111dcafc2a4</td>\n",
       "    </tr>\n",
       "    <tr>\n",
       "      <th>7</th>\n",
       "      <td>0</td>\n",
       "      <td>[email, mobile, social]</td>\n",
       "      <td>0</td>\n",
       "      <td>3</td>\n",
       "      <td>informational</td>\n",
       "      <td>5a8bc65990b245e5a138643cd4eb9837</td>\n",
       "    </tr>\n",
       "    <tr>\n",
       "      <th>8</th>\n",
       "      <td>5</td>\n",
       "      <td>[web, email, mobile, social]</td>\n",
       "      <td>5</td>\n",
       "      <td>5</td>\n",
       "      <td>bogo</td>\n",
       "      <td>f19421c1d4aa40978ebb69ca19b0e20d</td>\n",
       "    </tr>\n",
       "    <tr>\n",
       "      <th>9</th>\n",
       "      <td>2</td>\n",
       "      <td>[web, email, mobile]</td>\n",
       "      <td>10</td>\n",
       "      <td>7</td>\n",
       "      <td>discount</td>\n",
       "      <td>2906b810c7d4411798c6938adc9daaa5</td>\n",
       "    </tr>\n",
       "  </tbody>\n",
       "</table>\n",
       "</div>"
      ],
      "text/plain": [
       "   reward                      channels  difficulty  duration     offer_type  \\\n",
       "0      10       [email, mobile, social]          10         7           bogo   \n",
       "1      10  [web, email, mobile, social]          10         5           bogo   \n",
       "2       0          [web, email, mobile]           0         4  informational   \n",
       "3       5          [web, email, mobile]           5         7           bogo   \n",
       "4       5                  [web, email]          20        10       discount   \n",
       "5       3  [web, email, mobile, social]           7         7       discount   \n",
       "6       2  [web, email, mobile, social]          10        10       discount   \n",
       "7       0       [email, mobile, social]           0         3  informational   \n",
       "8       5  [web, email, mobile, social]           5         5           bogo   \n",
       "9       2          [web, email, mobile]          10         7       discount   \n",
       "\n",
       "                                 id  \n",
       "0  ae264e3637204a6fb9bb56bc8210ddfd  \n",
       "1  4d5c57ea9a6940dd891ad53e9dbe8da0  \n",
       "2  3f207df678b143eea3cee63160fa8bed  \n",
       "3  9b98b8c7a33c4b65b9aebfe6a799e6d9  \n",
       "4  0b1e1539f2cc45b7b9fa7c272da2e1d7  \n",
       "5  2298d6c36e964ae4a3e7e9706d1fb8c2  \n",
       "6  fafdcd668e3743c1bb461111dcafc2a4  \n",
       "7  5a8bc65990b245e5a138643cd4eb9837  \n",
       "8  f19421c1d4aa40978ebb69ca19b0e20d  \n",
       "9  2906b810c7d4411798c6938adc9daaa5  "
      ]
     },
     "execution_count": 3,
     "metadata": {},
     "output_type": "execute_result"
    }
   ],
   "source": [
    "portfolio   # 10 offer ids; channels will need breaking out into separate columns with 1 or 0"
   ]
  },
  {
   "cell_type": "markdown",
   "metadata": {},
   "source": [
    "### Portfolio discussion\n",
    "There are only 10 distinct offer ids in this experiment.  The channels applicable to each offer will need to be broken out into separate columns with 1 or 0 to flag which channel was in play.  There may be scope to group some of these offers (e.g. by offer type) - however, with only 10 on the list, it may be sensible to treat them separately for analysis."
   ]
  },
  {
   "cell_type": "markdown",
   "metadata": {},
   "source": [
    "## Profile exploration"
   ]
  },
  {
   "cell_type": "code",
   "execution_count": 4,
   "metadata": {},
   "outputs": [
    {
     "data": {
      "text/html": [
       "<div>\n",
       "<style scoped>\n",
       "    .dataframe tbody tr th:only-of-type {\n",
       "        vertical-align: middle;\n",
       "    }\n",
       "\n",
       "    .dataframe tbody tr th {\n",
       "        vertical-align: top;\n",
       "    }\n",
       "\n",
       "    .dataframe thead th {\n",
       "        text-align: right;\n",
       "    }\n",
       "</style>\n",
       "<table border=\"1\" class=\"dataframe\">\n",
       "  <thead>\n",
       "    <tr style=\"text-align: right;\">\n",
       "      <th></th>\n",
       "      <th>gender</th>\n",
       "      <th>age</th>\n",
       "      <th>id</th>\n",
       "      <th>became_member_on</th>\n",
       "      <th>income</th>\n",
       "    </tr>\n",
       "  </thead>\n",
       "  <tbody>\n",
       "    <tr>\n",
       "      <th>0</th>\n",
       "      <td>None</td>\n",
       "      <td>118</td>\n",
       "      <td>68be06ca386d4c31939f3a4f0e3dd783</td>\n",
       "      <td>20170212</td>\n",
       "      <td>NaN</td>\n",
       "    </tr>\n",
       "    <tr>\n",
       "      <th>1</th>\n",
       "      <td>F</td>\n",
       "      <td>55</td>\n",
       "      <td>0610b486422d4921ae7d2bf64640c50b</td>\n",
       "      <td>20170715</td>\n",
       "      <td>112000.0</td>\n",
       "    </tr>\n",
       "    <tr>\n",
       "      <th>2</th>\n",
       "      <td>None</td>\n",
       "      <td>118</td>\n",
       "      <td>38fe809add3b4fcf9315a9694bb96ff5</td>\n",
       "      <td>20180712</td>\n",
       "      <td>NaN</td>\n",
       "    </tr>\n",
       "    <tr>\n",
       "      <th>3</th>\n",
       "      <td>F</td>\n",
       "      <td>75</td>\n",
       "      <td>78afa995795e4d85b5d9ceeca43f5fef</td>\n",
       "      <td>20170509</td>\n",
       "      <td>100000.0</td>\n",
       "    </tr>\n",
       "    <tr>\n",
       "      <th>4</th>\n",
       "      <td>None</td>\n",
       "      <td>118</td>\n",
       "      <td>a03223e636434f42ac4c3df47e8bac43</td>\n",
       "      <td>20170804</td>\n",
       "      <td>NaN</td>\n",
       "    </tr>\n",
       "    <tr>\n",
       "      <th>...</th>\n",
       "      <td>...</td>\n",
       "      <td>...</td>\n",
       "      <td>...</td>\n",
       "      <td>...</td>\n",
       "      <td>...</td>\n",
       "    </tr>\n",
       "    <tr>\n",
       "      <th>16995</th>\n",
       "      <td>F</td>\n",
       "      <td>45</td>\n",
       "      <td>6d5f3a774f3d4714ab0c092238f3a1d7</td>\n",
       "      <td>20180604</td>\n",
       "      <td>54000.0</td>\n",
       "    </tr>\n",
       "    <tr>\n",
       "      <th>16996</th>\n",
       "      <td>M</td>\n",
       "      <td>61</td>\n",
       "      <td>2cb4f97358b841b9a9773a7aa05a9d77</td>\n",
       "      <td>20180713</td>\n",
       "      <td>72000.0</td>\n",
       "    </tr>\n",
       "    <tr>\n",
       "      <th>16997</th>\n",
       "      <td>M</td>\n",
       "      <td>49</td>\n",
       "      <td>01d26f638c274aa0b965d24cefe3183f</td>\n",
       "      <td>20170126</td>\n",
       "      <td>73000.0</td>\n",
       "    </tr>\n",
       "    <tr>\n",
       "      <th>16998</th>\n",
       "      <td>F</td>\n",
       "      <td>83</td>\n",
       "      <td>9dc1421481194dcd9400aec7c9ae6366</td>\n",
       "      <td>20160307</td>\n",
       "      <td>50000.0</td>\n",
       "    </tr>\n",
       "    <tr>\n",
       "      <th>16999</th>\n",
       "      <td>F</td>\n",
       "      <td>62</td>\n",
       "      <td>e4052622e5ba45a8b96b59aba68cf068</td>\n",
       "      <td>20170722</td>\n",
       "      <td>82000.0</td>\n",
       "    </tr>\n",
       "  </tbody>\n",
       "</table>\n",
       "<p>17000 rows × 5 columns</p>\n",
       "</div>"
      ],
      "text/plain": [
       "      gender  age                                id  became_member_on  \\\n",
       "0       None  118  68be06ca386d4c31939f3a4f0e3dd783          20170212   \n",
       "1          F   55  0610b486422d4921ae7d2bf64640c50b          20170715   \n",
       "2       None  118  38fe809add3b4fcf9315a9694bb96ff5          20180712   \n",
       "3          F   75  78afa995795e4d85b5d9ceeca43f5fef          20170509   \n",
       "4       None  118  a03223e636434f42ac4c3df47e8bac43          20170804   \n",
       "...      ...  ...                               ...               ...   \n",
       "16995      F   45  6d5f3a774f3d4714ab0c092238f3a1d7          20180604   \n",
       "16996      M   61  2cb4f97358b841b9a9773a7aa05a9d77          20180713   \n",
       "16997      M   49  01d26f638c274aa0b965d24cefe3183f          20170126   \n",
       "16998      F   83  9dc1421481194dcd9400aec7c9ae6366          20160307   \n",
       "16999      F   62  e4052622e5ba45a8b96b59aba68cf068          20170722   \n",
       "\n",
       "         income  \n",
       "0           NaN  \n",
       "1      112000.0  \n",
       "2           NaN  \n",
       "3      100000.0  \n",
       "4           NaN  \n",
       "...         ...  \n",
       "16995   54000.0  \n",
       "16996   72000.0  \n",
       "16997   73000.0  \n",
       "16998   50000.0  \n",
       "16999   82000.0  \n",
       "\n",
       "[17000 rows x 5 columns]"
      ]
     },
     "execution_count": 4,
     "metadata": {},
     "output_type": "execute_result"
    }
   ],
   "source": [
    "profile  # 17,000 customer profiles - need to check for duplicates; check for normal distribution on age and income; check nans"
   ]
  },
  {
   "cell_type": "code",
   "execution_count": 5,
   "metadata": {},
   "outputs": [
    {
     "data": {
      "text/plain": [
       "0"
      ]
     },
     "execution_count": 5,
     "metadata": {},
     "output_type": "execute_result"
    }
   ],
   "source": [
    "# Check for duplicates in the id column\n",
    "profile['id'].duplicated().sum()"
   ]
  },
  {
   "cell_type": "markdown",
   "metadata": {},
   "source": [
    "### Profile duplicates discussion\n",
    "There are no duplicates in the customer profile id column.  It is possible that a customer could be on this list twice if they signed up on separate occasions (perhaps with a different email account).  However, with the information provided we could not accurately identify those types of duplicates. Further data, such as name, street address, postcode (zip code), email address, telephone number, could be used to carry out a more thorough de-duplication process.  This information would need to be treated with additional security measures as it would constitute PII (Personally Identifiable Information) and would likely be affected by local legal frameworks e.g. European GDPR."
   ]
  },
  {
   "cell_type": "code",
   "execution_count": 6,
   "metadata": {},
   "outputs": [
    {
     "data": {
      "text/plain": [
       "array([None, 'F', 'M', 'O'], dtype=object)"
      ]
     },
     "execution_count": 6,
     "metadata": {},
     "output_type": "execute_result"
    }
   ],
   "source": [
    "# What values are present in the data for gender?\n",
    "profile['gender'].unique()"
   ]
  },
  {
   "cell_type": "code",
   "execution_count": 7,
   "metadata": {},
   "outputs": [
    {
     "data": {
      "text/plain": [
       "M    8484\n",
       "F    6129\n",
       "O     212\n",
       "Name: gender, dtype: int64"
      ]
     },
     "execution_count": 7,
     "metadata": {},
     "output_type": "execute_result"
    }
   ],
   "source": [
    "# Frequency of each gender value - excl NaNs\n",
    "gender_counts = profile['gender'].value_counts()\n",
    "gender_counts"
   ]
  },
  {
   "cell_type": "code",
   "execution_count": 8,
   "metadata": {},
   "outputs": [
    {
     "data": {
      "text/plain": [
       "2175"
      ]
     },
     "execution_count": 8,
     "metadata": {},
     "output_type": "execute_result"
    }
   ],
   "source": [
    "# Count of NaNs\n",
    "gender_nans_count = profile['gender'].isna().sum()\n",
    "gender_nans_count"
   ]
  },
  {
   "cell_type": "code",
   "execution_count": 9,
   "metadata": {},
   "outputs": [
    {
     "data": {
      "text/plain": [
       "17000"
      ]
     },
     "execution_count": 9,
     "metadata": {},
     "output_type": "execute_result"
    }
   ],
   "source": [
    "# Check this covers the full 17,000 rows --- it does.\n",
    "gender_counts.sum() + gender_nans_count"
   ]
  },
  {
   "cell_type": "markdown",
   "metadata": {},
   "source": [
    "### Gender discussion\n",
    "Gender will likely be split out using one hot encoding later into three or four columns.  We will need to decide whether to drop NaNs or to keep them as a further one hot encoded field ('not providing gender' may yield a useful feature in itself)."
   ]
  },
  {
   "cell_type": "markdown",
   "metadata": {},
   "source": [
    "## Age exploration"
   ]
  },
  {
   "cell_type": "code",
   "execution_count": 10,
   "metadata": {},
   "outputs": [
    {
     "data": {
      "text/plain": [
       "118    2175\n",
       "58      408\n",
       "53      372\n",
       "51      363\n",
       "54      359\n",
       "       ... \n",
       "100      12\n",
       "96        8\n",
       "98        5\n",
       "99        5\n",
       "101       5\n",
       "Name: age, Length: 85, dtype: int64"
      ]
     },
     "execution_count": 10,
     "metadata": {},
     "output_type": "execute_result"
    }
   ],
   "source": [
    "# Check value counts of ages\n",
    "profile['age'].value_counts()"
   ]
  },
  {
   "cell_type": "code",
   "execution_count": 11,
   "metadata": {},
   "outputs": [
    {
     "data": {
      "text/plain": [
       "(array([ 205.,  275.,  257.,  275.,  296.,  266.,  244.,  291.,  265.,\n",
       "         372.,  354.,  391.,  442.,  423.,  444.,  609.,  647.,  723.,\n",
       "         709.,  695.,  767.,  642.,  656.,  591.,  601.,  501.,  482.,\n",
       "         400.,  352.,  296.,  252.,  234.,  207.,  153.,  120.,  117.,\n",
       "          99.,   69.,   55.,   21.,   10.,   17.,    0.,    0.,    0.,\n",
       "           0.,    0.,    0.,    0., 2175.]),\n",
       " array([ 18.,  20.,  22.,  24.,  26.,  28.,  30.,  32.,  34.,  36.,  38.,\n",
       "         40.,  42.,  44.,  46.,  48.,  50.,  52.,  54.,  56.,  58.,  60.,\n",
       "         62.,  64.,  66.,  68.,  70.,  72.,  74.,  76.,  78.,  80.,  82.,\n",
       "         84.,  86.,  88.,  90.,  92.,  94.,  96.,  98., 100., 102., 104.,\n",
       "        106., 108., 110., 112., 114., 116., 118.]),\n",
       " <a list of 50 Patch objects>)"
      ]
     },
     "execution_count": 11,
     "metadata": {},
     "output_type": "execute_result"
    },
    {
     "data": {
      "image/png": "[encoded data removed]",
      "text/plain": [
       "<Figure size 432x288 with 1 Axes>"
      ]
     },
     "metadata": {
      "needs_background": "light"
     },
     "output_type": "display_data"
    }
   ],
   "source": [
    "# Check for distribution of ages\n",
    "plt.hist(profile['age'], bins=50)      # clear outlier at age 118 with 2,175 customers - these will need to be ignored"
   ]
  },
  {
   "cell_type": "code",
   "execution_count": 12,
   "metadata": {},
   "outputs": [
    {
     "data": {
      "text/plain": [
       "0"
      ]
     },
     "execution_count": 12,
     "metadata": {},
     "output_type": "execute_result"
    }
   ],
   "source": [
    "# Check for NaNs in ages\n",
    "profile['age'].isna().sum()  # there are no NaNs"
   ]
  },
  {
   "cell_type": "code",
   "execution_count": 13,
   "metadata": {},
   "outputs": [
    {
     "data": {
      "text/plain": [
       "18"
      ]
     },
     "execution_count": 13,
     "metadata": {},
     "output_type": "execute_result"
    }
   ],
   "source": [
    "# What is the minimum age in the dataset\n",
    "profile['age'].min()"
   ]
  },
  {
   "cell_type": "markdown",
   "metadata": {},
   "source": [
    "### Age discussion\n",
    "Presumably date of birth is a mandatory input field, but the \"118 year olds\", of which there are 2,175, left the field blank and it defaulted to 01/01/1900 for D.O.B.  In our modelling we will need to make these users NaNs which can either be excluded from a model, or included in case they are a useful feature in themselves (e.g. customers who choose not to give their date of birth may respond in a particular way to promotions as well).\n",
    "\n",
    "Otherwise age seems to have a reasonably sensible distribution.  The minimum age is 18.  Is this the minimum age for signing up for an account?  Also of note, the frequency is highest in the 50 - 60 age category and is then almost normally distributed, although there is a noticeably higher frequency on the left side (younger customers) compared to the right side where it drops away quite steeply.  With access to additional data it would be advisable to compare this distribution with that of the overall population of Starbucks customers to confirm that the sample in this experiment is in line and not suffering from sampling bias."
   ]
  },
  {
   "cell_type": "markdown",
   "metadata": {},
   "source": [
    "## Income exploration"
   ]
  },
  {
   "cell_type": "code",
   "execution_count": 14,
   "metadata": {},
   "outputs": [
    {
     "name": "stderr",
     "output_type": "stream",
     "text": [
      "c:\\users\\mike_\\appdata\\local\\programs\\python\\python38\\lib\\site-packages\\numpy\\lib\\histograms.py:839: RuntimeWarning: invalid value encountered in greater_equal\n",
      "  keep = (tmp_a >= first_edge)\n",
      "c:\\users\\mike_\\appdata\\local\\programs\\python\\python38\\lib\\site-packages\\numpy\\lib\\histograms.py:840: RuntimeWarning: invalid value encountered in less_equal\n",
      "  keep &= (tmp_a <= last_edge)\n"
     ]
    },
    {
     "data": {
      "text/plain": [
       "(array([ 939.,  792.,  958.,  749., 1145., 1089., 1279.,  931., 1158.,\n",
       "        1187.,  881.,  554.,  718.,  497.,  620.,  370.,  276.,  222.,\n",
       "         257.,  203.]),\n",
       " array([ 30000.,  34500.,  39000.,  43500.,  48000.,  52500.,  57000.,\n",
       "         61500.,  66000.,  70500.,  75000.,  79500.,  84000.,  88500.,\n",
       "         93000.,  97500., 102000., 106500., 111000., 115500., 120000.]),\n",
       " <a list of 20 Patch objects>)"
      ]
     },
     "execution_count": 14,
     "metadata": {},
     "output_type": "execute_result"
    },
    {
     "data": {
      "image/png": "[encoded data removed]",
      "text/plain": [
       "<Figure size 432x288 with 1 Axes>"
      ]
     },
     "metadata": {
      "needs_background": "light"
     },
     "output_type": "display_data"
    }
   ],
   "source": [
    "# Check for distribution of incomes\n",
    "plt.hist(profile['income'], bins=20)     # run time warning appearing due to nans - histogram visualisation still useful"
   ]
  },
  {
   "cell_type": "code",
   "execution_count": 15,
   "metadata": {},
   "outputs": [
    {
     "data": {
      "text/plain": [
       "2175"
      ]
     },
     "execution_count": 15,
     "metadata": {},
     "output_type": "execute_result"
    }
   ],
   "source": [
    "# Check for income NaNs\n",
    "profile['income'].isna().sum()     \n",
    "\n",
    "# Interestingly this is the same number exactly as the \"118 year old\" customers and the 'None' gender customers."
   ]
  },
  {
   "cell_type": "code",
   "execution_count": 16,
   "metadata": {},
   "outputs": [
    {
     "data": {
      "text/plain": [
       "(2175,)"
      ]
     },
     "execution_count": 16,
     "metadata": {},
     "output_type": "execute_result"
    }
   ],
   "source": [
    "# Are they the same 2,175 customers?\n",
    "missing_age = profile[profile['age'] == 118]['id']\n",
    "missing_income = profile[profile['income'].isna() == True]['id']\n",
    "\n",
    "np.intersect1d(missing_age, missing_income).shape\n",
    "\n",
    "# They are the exact same customers in both lists"
   ]
  },
  {
   "cell_type": "code",
   "execution_count": 17,
   "metadata": {},
   "outputs": [
    {
     "data": {
      "text/plain": [
       "(2175,)"
      ]
     },
     "execution_count": 17,
     "metadata": {},
     "output_type": "execute_result"
    }
   ],
   "source": [
    "# Also check the missing gender customers\n",
    "missing_gender = profile[profile['gender'].isna() == True]['id']\n",
    "\n",
    "np.intersect1d(missing_age, missing_gender).shape\n",
    "\n",
    "# Again, they are the exact same customers as in missing_gender"
   ]
  },
  {
   "cell_type": "code",
   "execution_count": 18,
   "metadata": {},
   "outputs": [
    {
     "data": {
      "text/html": [
       "<div>\n",
       "<style scoped>\n",
       "    .dataframe tbody tr th:only-of-type {\n",
       "        vertical-align: middle;\n",
       "    }\n",
       "\n",
       "    .dataframe tbody tr th {\n",
       "        vertical-align: top;\n",
       "    }\n",
       "\n",
       "    .dataframe thead th {\n",
       "        text-align: right;\n",
       "    }\n",
       "</style>\n",
       "<table border=\"1\" class=\"dataframe\">\n",
       "  <thead>\n",
       "    <tr style=\"text-align: right;\">\n",
       "      <th></th>\n",
       "      <th>gender</th>\n",
       "      <th>age</th>\n",
       "      <th>id</th>\n",
       "      <th>became_member_on</th>\n",
       "      <th>income</th>\n",
       "    </tr>\n",
       "  </thead>\n",
       "  <tbody>\n",
       "    <tr>\n",
       "      <th>0</th>\n",
       "      <td>None</td>\n",
       "      <td>118</td>\n",
       "      <td>68be06ca386d4c31939f3a4f0e3dd783</td>\n",
       "      <td>20170212</td>\n",
       "      <td>NaN</td>\n",
       "    </tr>\n",
       "    <tr>\n",
       "      <th>2</th>\n",
       "      <td>None</td>\n",
       "      <td>118</td>\n",
       "      <td>38fe809add3b4fcf9315a9694bb96ff5</td>\n",
       "      <td>20180712</td>\n",
       "      <td>NaN</td>\n",
       "    </tr>\n",
       "    <tr>\n",
       "      <th>4</th>\n",
       "      <td>None</td>\n",
       "      <td>118</td>\n",
       "      <td>a03223e636434f42ac4c3df47e8bac43</td>\n",
       "      <td>20170804</td>\n",
       "      <td>NaN</td>\n",
       "    </tr>\n",
       "    <tr>\n",
       "      <th>6</th>\n",
       "      <td>None</td>\n",
       "      <td>118</td>\n",
       "      <td>8ec6ce2a7e7949b1bf142def7d0e0586</td>\n",
       "      <td>20170925</td>\n",
       "      <td>NaN</td>\n",
       "    </tr>\n",
       "    <tr>\n",
       "      <th>7</th>\n",
       "      <td>None</td>\n",
       "      <td>118</td>\n",
       "      <td>68617ca6246f4fbc85e91a2a49552598</td>\n",
       "      <td>20171002</td>\n",
       "      <td>NaN</td>\n",
       "    </tr>\n",
       "    <tr>\n",
       "      <th>...</th>\n",
       "      <td>...</td>\n",
       "      <td>...</td>\n",
       "      <td>...</td>\n",
       "      <td>...</td>\n",
       "      <td>...</td>\n",
       "    </tr>\n",
       "    <tr>\n",
       "      <th>16980</th>\n",
       "      <td>None</td>\n",
       "      <td>118</td>\n",
       "      <td>5c686d09ca4d475a8f750f2ba07e0440</td>\n",
       "      <td>20160901</td>\n",
       "      <td>NaN</td>\n",
       "    </tr>\n",
       "    <tr>\n",
       "      <th>16982</th>\n",
       "      <td>None</td>\n",
       "      <td>118</td>\n",
       "      <td>d9ca82f550ac4ee58b6299cf1e5c824a</td>\n",
       "      <td>20160415</td>\n",
       "      <td>NaN</td>\n",
       "    </tr>\n",
       "    <tr>\n",
       "      <th>16989</th>\n",
       "      <td>None</td>\n",
       "      <td>118</td>\n",
       "      <td>ca45ee1883624304bac1e4c8a114f045</td>\n",
       "      <td>20180305</td>\n",
       "      <td>NaN</td>\n",
       "    </tr>\n",
       "    <tr>\n",
       "      <th>16991</th>\n",
       "      <td>None</td>\n",
       "      <td>118</td>\n",
       "      <td>a9a20fa8b5504360beb4e7c8712f8306</td>\n",
       "      <td>20160116</td>\n",
       "      <td>NaN</td>\n",
       "    </tr>\n",
       "    <tr>\n",
       "      <th>16994</th>\n",
       "      <td>None</td>\n",
       "      <td>118</td>\n",
       "      <td>c02b10e8752c4d8e9b73f918558531f7</td>\n",
       "      <td>20151211</td>\n",
       "      <td>NaN</td>\n",
       "    </tr>\n",
       "  </tbody>\n",
       "</table>\n",
       "<p>2175 rows × 5 columns</p>\n",
       "</div>"
      ],
      "text/plain": [
       "      gender  age                                id  became_member_on  income\n",
       "0       None  118  68be06ca386d4c31939f3a4f0e3dd783          20170212     NaN\n",
       "2       None  118  38fe809add3b4fcf9315a9694bb96ff5          20180712     NaN\n",
       "4       None  118  a03223e636434f42ac4c3df47e8bac43          20170804     NaN\n",
       "6       None  118  8ec6ce2a7e7949b1bf142def7d0e0586          20170925     NaN\n",
       "7       None  118  68617ca6246f4fbc85e91a2a49552598          20171002     NaN\n",
       "...      ...  ...                               ...               ...     ...\n",
       "16980   None  118  5c686d09ca4d475a8f750f2ba07e0440          20160901     NaN\n",
       "16982   None  118  d9ca82f550ac4ee58b6299cf1e5c824a          20160415     NaN\n",
       "16989   None  118  ca45ee1883624304bac1e4c8a114f045          20180305     NaN\n",
       "16991   None  118  a9a20fa8b5504360beb4e7c8712f8306          20160116     NaN\n",
       "16994   None  118  c02b10e8752c4d8e9b73f918558531f7          20151211     NaN\n",
       "\n",
       "[2175 rows x 5 columns]"
      ]
     },
     "execution_count": 18,
     "metadata": {},
     "output_type": "execute_result"
    }
   ],
   "source": [
    "# View \"118 year old\" customer rows to show income is also NaN and gender is None\n",
    "profile[profile['age'] == 118]"
   ]
  },
  {
   "cell_type": "markdown",
   "metadata": {},
   "source": [
    "### Income discussion\n",
    "We have shown using a numpy 1d intersect that the list of 2,175 customers with missing income and age showing as 118 are the exact same customers for whom the income column is a NaN.  This is also the exact same list of customers who are showing 'None' for gender.\n",
    "\n",
    "Apart from this element, the remaining income values appear to have a fairly sensible distribution.\n"
   ]
  },
  {
   "cell_type": "markdown",
   "metadata": {},
   "source": [
    "## Membership duration exploration"
   ]
  },
  {
   "cell_type": "code",
   "execution_count": 19,
   "metadata": {},
   "outputs": [],
   "source": [
    "# Convert column to datetime\n",
    "profile['became_member_on'] = pd.to_datetime(profile['became_member_on'], yearfirst=True, format='%Y%m%d')"
   ]
  },
  {
   "cell_type": "code",
   "execution_count": 20,
   "metadata": {},
   "outputs": [
    {
     "data": {
      "text/plain": [
       "(array([  76.,   71.,   67.,   51.,   78.,   71.,   71.,   66.,   83.,\n",
       "          71.,   66.,   67.,   68.,   61.,   64.,   83.,   66.,   74.,\n",
       "          71.,   68.,  336.,  346.,  316.,  330.,  330.,  352.,  374.,\n",
       "         358.,  369.,  342.,  378.,  314.,  348.,  324.,  351.,  360.,\n",
       "         350.,  338.,  345.,  355., 1041., 1041., 1007., 1075.,  971.,\n",
       "         738.,  681.,  728.,  700.,  709.]),\n",
       " array([735078.  , 735114.46, 735150.92, 735187.38, 735223.84, 735260.3 ,\n",
       "        735296.76, 735333.22, 735369.68, 735406.14, 735442.6 , 735479.06,\n",
       "        735515.52, 735551.98, 735588.44, 735624.9 , 735661.36, 735697.82,\n",
       "        735734.28, 735770.74, 735807.2 , 735843.66, 735880.12, 735916.58,\n",
       "        735953.04, 735989.5 , 736025.96, 736062.42, 736098.88, 736135.34,\n",
       "        736171.8 , 736208.26, 736244.72, 736281.18, 736317.64, 736354.1 ,\n",
       "        736390.56, 736427.02, 736463.48, 736499.94, 736536.4 , 736572.86,\n",
       "        736609.32, 736645.78, 736682.24, 736718.7 , 736755.16, 736791.62,\n",
       "        736828.08, 736864.54, 736901.  ]),\n",
       " <a list of 50 Patch objects>)"
      ]
     },
     "execution_count": 20,
     "metadata": {},
     "output_type": "execute_result"
    },
    {
     "data": {
      "image/png": "[encoded data removed]",
      "text/plain": [
       "<Figure size 432x288 with 1 Axes>"
      ]
     },
     "metadata": {
      "needs_background": "light"
     },
     "output_type": "display_data"
    }
   ],
   "source": [
    "# Check the distribution of membership start dates\n",
    "plt.hist(profile['became_member_on'], bins=50)"
   ]
  },
  {
   "cell_type": "markdown",
   "metadata": {},
   "source": [
    "### Membership start date discussion\n",
    "There is an interesting stepped pattern observed in the histogram above showing membership start dates.  There are four clear groupings from the distribution of membership start dates:\n",
    "* 2014 to 2015 - low frequency of customers in this sample of 17,000\n",
    "* 2016 to 2017 - a fairly large step up in frequency of customers appearing in this sample\n",
    "* late 2017/early 2018 - a highly significant step up with the highest frequency time periods in this study\n",
    "* late 2018 - a drop down from the peak, but still a high proportion in this sample\n",
    "\n",
    "The overall pattern is perhaps not a surprise - the 2017 and 2018 cohort were more recent customers at the time of this study and are likely to be more engaged versus the much older cohorts because, over time, there will have been attrition of older customers, leaving fewer still engaged.  Furthermore, the lower incidence of customers with very recent start dates (at the time of the study), is also expected, as the brand new customer group have not yet had time to become fully engaged.  However, what is noteworthy is the fact that this pattern appears in clear steps, rather than in a smooth curve over time.\n",
    "\n",
    "This may be showing us significant events in the past where there was a sudden uplift in the level of customer acquisition - perhaps through major sign up events or promotions.  It will be important to validate this stepped pattern against the larger population of all customers - to ensure that this is not a sampling bias or sampling error and confirm that it is in fact representative of the whole population."
   ]
  },
  {
   "cell_type": "markdown",
   "metadata": {},
   "source": [
    "## Transcript exploration"
   ]
  },
  {
   "cell_type": "code",
   "execution_count": 21,
   "metadata": {},
   "outputs": [
    {
     "data": {
      "text/html": [
       "<div>\n",
       "<style scoped>\n",
       "    .dataframe tbody tr th:only-of-type {\n",
       "        vertical-align: middle;\n",
       "    }\n",
       "\n",
       "    .dataframe tbody tr th {\n",
       "        vertical-align: top;\n",
       "    }\n",
       "\n",
       "    .dataframe thead th {\n",
       "        text-align: right;\n",
       "    }\n",
       "</style>\n",
       "<table border=\"1\" class=\"dataframe\">\n",
       "  <thead>\n",
       "    <tr style=\"text-align: right;\">\n",
       "      <th></th>\n",
       "      <th>person</th>\n",
       "      <th>event</th>\n",
       "      <th>value</th>\n",
       "      <th>time</th>\n",
       "    </tr>\n",
       "  </thead>\n",
       "  <tbody>\n",
       "    <tr>\n",
       "      <th>0</th>\n",
       "      <td>78afa995795e4d85b5d9ceeca43f5fef</td>\n",
       "      <td>offer received</td>\n",
       "      <td>{'offer id': '9b98b8c7a33c4b65b9aebfe6a799e6d9'}</td>\n",
       "      <td>0</td>\n",
       "    </tr>\n",
       "    <tr>\n",
       "      <th>1</th>\n",
       "      <td>a03223e636434f42ac4c3df47e8bac43</td>\n",
       "      <td>offer received</td>\n",
       "      <td>{'offer id': '0b1e1539f2cc45b7b9fa7c272da2e1d7'}</td>\n",
       "      <td>0</td>\n",
       "    </tr>\n",
       "    <tr>\n",
       "      <th>2</th>\n",
       "      <td>e2127556f4f64592b11af22de27a7932</td>\n",
       "      <td>offer received</td>\n",
       "      <td>{'offer id': '2906b810c7d4411798c6938adc9daaa5'}</td>\n",
       "      <td>0</td>\n",
       "    </tr>\n",
       "    <tr>\n",
       "      <th>3</th>\n",
       "      <td>8ec6ce2a7e7949b1bf142def7d0e0586</td>\n",
       "      <td>offer received</td>\n",
       "      <td>{'offer id': 'fafdcd668e3743c1bb461111dcafc2a4'}</td>\n",
       "      <td>0</td>\n",
       "    </tr>\n",
       "    <tr>\n",
       "      <th>4</th>\n",
       "      <td>68617ca6246f4fbc85e91a2a49552598</td>\n",
       "      <td>offer received</td>\n",
       "      <td>{'offer id': '4d5c57ea9a6940dd891ad53e9dbe8da0'}</td>\n",
       "      <td>0</td>\n",
       "    </tr>\n",
       "    <tr>\n",
       "      <th>...</th>\n",
       "      <td>...</td>\n",
       "      <td>...</td>\n",
       "      <td>...</td>\n",
       "      <td>...</td>\n",
       "    </tr>\n",
       "    <tr>\n",
       "      <th>306529</th>\n",
       "      <td>b3a1272bc9904337b331bf348c3e8c17</td>\n",
       "      <td>transaction</td>\n",
       "      <td>{'amount': 1.5899999999999999}</td>\n",
       "      <td>714</td>\n",
       "    </tr>\n",
       "    <tr>\n",
       "      <th>306530</th>\n",
       "      <td>68213b08d99a4ae1b0dcb72aebd9aa35</td>\n",
       "      <td>transaction</td>\n",
       "      <td>{'amount': 9.53}</td>\n",
       "      <td>714</td>\n",
       "    </tr>\n",
       "    <tr>\n",
       "      <th>306531</th>\n",
       "      <td>a00058cf10334a308c68e7631c529907</td>\n",
       "      <td>transaction</td>\n",
       "      <td>{'amount': 3.61}</td>\n",
       "      <td>714</td>\n",
       "    </tr>\n",
       "    <tr>\n",
       "      <th>306532</th>\n",
       "      <td>76ddbd6576844afe811f1a3c0fbb5bec</td>\n",
       "      <td>transaction</td>\n",
       "      <td>{'amount': 3.5300000000000002}</td>\n",
       "      <td>714</td>\n",
       "    </tr>\n",
       "    <tr>\n",
       "      <th>306533</th>\n",
       "      <td>c02b10e8752c4d8e9b73f918558531f7</td>\n",
       "      <td>transaction</td>\n",
       "      <td>{'amount': 4.05}</td>\n",
       "      <td>714</td>\n",
       "    </tr>\n",
       "  </tbody>\n",
       "</table>\n",
       "<p>306534 rows × 4 columns</p>\n",
       "</div>"
      ],
      "text/plain": [
       "                                  person           event  \\\n",
       "0       78afa995795e4d85b5d9ceeca43f5fef  offer received   \n",
       "1       a03223e636434f42ac4c3df47e8bac43  offer received   \n",
       "2       e2127556f4f64592b11af22de27a7932  offer received   \n",
       "3       8ec6ce2a7e7949b1bf142def7d0e0586  offer received   \n",
       "4       68617ca6246f4fbc85e91a2a49552598  offer received   \n",
       "...                                  ...             ...   \n",
       "306529  b3a1272bc9904337b331bf348c3e8c17     transaction   \n",
       "306530  68213b08d99a4ae1b0dcb72aebd9aa35     transaction   \n",
       "306531  a00058cf10334a308c68e7631c529907     transaction   \n",
       "306532  76ddbd6576844afe811f1a3c0fbb5bec     transaction   \n",
       "306533  c02b10e8752c4d8e9b73f918558531f7     transaction   \n",
       "\n",
       "                                                   value  time  \n",
       "0       {'offer id': '9b98b8c7a33c4b65b9aebfe6a799e6d9'}     0  \n",
       "1       {'offer id': '0b1e1539f2cc45b7b9fa7c272da2e1d7'}     0  \n",
       "2       {'offer id': '2906b810c7d4411798c6938adc9daaa5'}     0  \n",
       "3       {'offer id': 'fafdcd668e3743c1bb461111dcafc2a4'}     0  \n",
       "4       {'offer id': '4d5c57ea9a6940dd891ad53e9dbe8da0'}     0  \n",
       "...                                                  ...   ...  \n",
       "306529                    {'amount': 1.5899999999999999}   714  \n",
       "306530                                  {'amount': 9.53}   714  \n",
       "306531                                  {'amount': 3.61}   714  \n",
       "306532                    {'amount': 3.5300000000000002}   714  \n",
       "306533                                  {'amount': 4.05}   714  \n",
       "\n",
       "[306534 rows x 4 columns]"
      ]
     },
     "execution_count": 21,
     "metadata": {},
     "output_type": "execute_result"
    }
   ],
   "source": [
    "transcript   # 306,534 rows of transcript data split into different event types"
   ]
  },
  {
   "cell_type": "markdown",
   "metadata": {},
   "source": [
    "The dict in the value column will need to be split out to gather useful data for modelling.  The time represents hours since the start of the experiment.  714 hours relates to nearly 30 days overall."
   ]
  },
  {
   "cell_type": "code",
   "execution_count": 22,
   "metadata": {},
   "outputs": [
    {
     "data": {
      "text/plain": [
       "array(['offer received', 'offer viewed', 'transaction', 'offer completed'],\n",
       "      dtype=object)"
      ]
     },
     "execution_count": 22,
     "metadata": {},
     "output_type": "execute_result"
    }
   ],
   "source": [
    "# What are the different event types in the dataset\n",
    "transcript['event'].unique()     # 4 types of event in the transcript"
   ]
  },
  {
   "cell_type": "code",
   "execution_count": 23,
   "metadata": {},
   "outputs": [
    {
     "data": {
      "text/plain": [
       "transaction        138953\n",
       "offer received      76277\n",
       "offer viewed        57725\n",
       "offer completed     33579\n",
       "Name: event, dtype: int64"
      ]
     },
     "execution_count": 23,
     "metadata": {},
     "output_type": "execute_result"
    }
   ],
   "source": [
    "# How frequently does each event type occur\n",
    "transcript['event'].value_counts()"
   ]
  },
  {
   "cell_type": "code",
   "execution_count": 24,
   "metadata": {},
   "outputs": [
    {
     "data": {
      "text/html": [
       "<div>\n",
       "<style scoped>\n",
       "    .dataframe tbody tr th:only-of-type {\n",
       "        vertical-align: middle;\n",
       "    }\n",
       "\n",
       "    .dataframe tbody tr th {\n",
       "        vertical-align: top;\n",
       "    }\n",
       "\n",
       "    .dataframe thead th {\n",
       "        text-align: right;\n",
       "    }\n",
       "</style>\n",
       "<table border=\"1\" class=\"dataframe\">\n",
       "  <thead>\n",
       "    <tr style=\"text-align: right;\">\n",
       "      <th></th>\n",
       "      <th>person</th>\n",
       "      <th>event</th>\n",
       "      <th>value</th>\n",
       "      <th>time</th>\n",
       "    </tr>\n",
       "  </thead>\n",
       "  <tbody>\n",
       "    <tr>\n",
       "      <th>0</th>\n",
       "      <td>78afa995795e4d85b5d9ceeca43f5fef</td>\n",
       "      <td>offer received</td>\n",
       "      <td>{'offer id': '9b98b8c7a33c4b65b9aebfe6a799e6d9'}</td>\n",
       "      <td>0</td>\n",
       "    </tr>\n",
       "    <tr>\n",
       "      <th>15561</th>\n",
       "      <td>78afa995795e4d85b5d9ceeca43f5fef</td>\n",
       "      <td>offer viewed</td>\n",
       "      <td>{'offer id': '9b98b8c7a33c4b65b9aebfe6a799e6d9'}</td>\n",
       "      <td>6</td>\n",
       "    </tr>\n",
       "    <tr>\n",
       "      <th>47582</th>\n",
       "      <td>78afa995795e4d85b5d9ceeca43f5fef</td>\n",
       "      <td>transaction</td>\n",
       "      <td>{'amount': 19.89}</td>\n",
       "      <td>132</td>\n",
       "    </tr>\n",
       "    <tr>\n",
       "      <th>47583</th>\n",
       "      <td>78afa995795e4d85b5d9ceeca43f5fef</td>\n",
       "      <td>offer completed</td>\n",
       "      <td>{'offer_id': '9b98b8c7a33c4b65b9aebfe6a799e6d9...</td>\n",
       "      <td>132</td>\n",
       "    </tr>\n",
       "    <tr>\n",
       "      <th>49502</th>\n",
       "      <td>78afa995795e4d85b5d9ceeca43f5fef</td>\n",
       "      <td>transaction</td>\n",
       "      <td>{'amount': 17.78}</td>\n",
       "      <td>144</td>\n",
       "    </tr>\n",
       "    <tr>\n",
       "      <th>53176</th>\n",
       "      <td>78afa995795e4d85b5d9ceeca43f5fef</td>\n",
       "      <td>offer received</td>\n",
       "      <td>{'offer id': '5a8bc65990b245e5a138643cd4eb9837'}</td>\n",
       "      <td>168</td>\n",
       "    </tr>\n",
       "    <tr>\n",
       "      <th>85291</th>\n",
       "      <td>78afa995795e4d85b5d9ceeca43f5fef</td>\n",
       "      <td>offer viewed</td>\n",
       "      <td>{'offer id': '5a8bc65990b245e5a138643cd4eb9837'}</td>\n",
       "      <td>216</td>\n",
       "    </tr>\n",
       "    <tr>\n",
       "      <th>87134</th>\n",
       "      <td>78afa995795e4d85b5d9ceeca43f5fef</td>\n",
       "      <td>transaction</td>\n",
       "      <td>{'amount': 19.67}</td>\n",
       "      <td>222</td>\n",
       "    </tr>\n",
       "    <tr>\n",
       "      <th>92104</th>\n",
       "      <td>78afa995795e4d85b5d9ceeca43f5fef</td>\n",
       "      <td>transaction</td>\n",
       "      <td>{'amount': 29.72}</td>\n",
       "      <td>240</td>\n",
       "    </tr>\n",
       "    <tr>\n",
       "      <th>141566</th>\n",
       "      <td>78afa995795e4d85b5d9ceeca43f5fef</td>\n",
       "      <td>transaction</td>\n",
       "      <td>{'amount': 23.93}</td>\n",
       "      <td>378</td>\n",
       "    </tr>\n",
       "    <tr>\n",
       "      <th>150598</th>\n",
       "      <td>78afa995795e4d85b5d9ceeca43f5fef</td>\n",
       "      <td>offer received</td>\n",
       "      <td>{'offer id': 'ae264e3637204a6fb9bb56bc8210ddfd'}</td>\n",
       "      <td>408</td>\n",
       "    </tr>\n",
       "    <tr>\n",
       "      <th>163375</th>\n",
       "      <td>78afa995795e4d85b5d9ceeca43f5fef</td>\n",
       "      <td>offer viewed</td>\n",
       "      <td>{'offer id': 'ae264e3637204a6fb9bb56bc8210ddfd'}</td>\n",
       "      <td>408</td>\n",
       "    </tr>\n",
       "    <tr>\n",
       "      <th>201572</th>\n",
       "      <td>78afa995795e4d85b5d9ceeca43f5fef</td>\n",
       "      <td>offer received</td>\n",
       "      <td>{'offer id': 'f19421c1d4aa40978ebb69ca19b0e20d'}</td>\n",
       "      <td>504</td>\n",
       "    </tr>\n",
       "    <tr>\n",
       "      <th>218393</th>\n",
       "      <td>78afa995795e4d85b5d9ceeca43f5fef</td>\n",
       "      <td>transaction</td>\n",
       "      <td>{'amount': 21.72}</td>\n",
       "      <td>510</td>\n",
       "    </tr>\n",
       "    <tr>\n",
       "      <th>218394</th>\n",
       "      <td>78afa995795e4d85b5d9ceeca43f5fef</td>\n",
       "      <td>offer completed</td>\n",
       "      <td>{'offer_id': 'ae264e3637204a6fb9bb56bc8210ddfd...</td>\n",
       "      <td>510</td>\n",
       "    </tr>\n",
       "    <tr>\n",
       "      <th>218395</th>\n",
       "      <td>78afa995795e4d85b5d9ceeca43f5fef</td>\n",
       "      <td>offer completed</td>\n",
       "      <td>{'offer_id': 'f19421c1d4aa40978ebb69ca19b0e20d...</td>\n",
       "      <td>510</td>\n",
       "    </tr>\n",
       "    <tr>\n",
       "      <th>230412</th>\n",
       "      <td>78afa995795e4d85b5d9ceeca43f5fef</td>\n",
       "      <td>transaction</td>\n",
       "      <td>{'amount': 26.56}</td>\n",
       "      <td>534</td>\n",
       "    </tr>\n",
       "    <tr>\n",
       "      <th>262138</th>\n",
       "      <td>78afa995795e4d85b5d9ceeca43f5fef</td>\n",
       "      <td>offer viewed</td>\n",
       "      <td>{'offer id': 'f19421c1d4aa40978ebb69ca19b0e20d'}</td>\n",
       "      <td>582</td>\n",
       "    </tr>\n",
       "  </tbody>\n",
       "</table>\n",
       "</div>"
      ],
      "text/plain": [
       "                                  person            event  \\\n",
       "0       78afa995795e4d85b5d9ceeca43f5fef   offer received   \n",
       "15561   78afa995795e4d85b5d9ceeca43f5fef     offer viewed   \n",
       "47582   78afa995795e4d85b5d9ceeca43f5fef      transaction   \n",
       "47583   78afa995795e4d85b5d9ceeca43f5fef  offer completed   \n",
       "49502   78afa995795e4d85b5d9ceeca43f5fef      transaction   \n",
       "53176   78afa995795e4d85b5d9ceeca43f5fef   offer received   \n",
       "85291   78afa995795e4d85b5d9ceeca43f5fef     offer viewed   \n",
       "87134   78afa995795e4d85b5d9ceeca43f5fef      transaction   \n",
       "92104   78afa995795e4d85b5d9ceeca43f5fef      transaction   \n",
       "141566  78afa995795e4d85b5d9ceeca43f5fef      transaction   \n",
       "150598  78afa995795e4d85b5d9ceeca43f5fef   offer received   \n",
       "163375  78afa995795e4d85b5d9ceeca43f5fef     offer viewed   \n",
       "201572  78afa995795e4d85b5d9ceeca43f5fef   offer received   \n",
       "218393  78afa995795e4d85b5d9ceeca43f5fef      transaction   \n",
       "218394  78afa995795e4d85b5d9ceeca43f5fef  offer completed   \n",
       "218395  78afa995795e4d85b5d9ceeca43f5fef  offer completed   \n",
       "230412  78afa995795e4d85b5d9ceeca43f5fef      transaction   \n",
       "262138  78afa995795e4d85b5d9ceeca43f5fef     offer viewed   \n",
       "\n",
       "                                                    value  time  \n",
       "0        {'offer id': '9b98b8c7a33c4b65b9aebfe6a799e6d9'}     0  \n",
       "15561    {'offer id': '9b98b8c7a33c4b65b9aebfe6a799e6d9'}     6  \n",
       "47582                                   {'amount': 19.89}   132  \n",
       "47583   {'offer_id': '9b98b8c7a33c4b65b9aebfe6a799e6d9...   132  \n",
       "49502                                   {'amount': 17.78}   144  \n",
       "53176    {'offer id': '5a8bc65990b245e5a138643cd4eb9837'}   168  \n",
       "85291    {'offer id': '5a8bc65990b245e5a138643cd4eb9837'}   216  \n",
       "87134                                   {'amount': 19.67}   222  \n",
       "92104                                   {'amount': 29.72}   240  \n",
       "141566                                  {'amount': 23.93}   378  \n",
       "150598   {'offer id': 'ae264e3637204a6fb9bb56bc8210ddfd'}   408  \n",
       "163375   {'offer id': 'ae264e3637204a6fb9bb56bc8210ddfd'}   408  \n",
       "201572   {'offer id': 'f19421c1d4aa40978ebb69ca19b0e20d'}   504  \n",
       "218393                                  {'amount': 21.72}   510  \n",
       "218394  {'offer_id': 'ae264e3637204a6fb9bb56bc8210ddfd...   510  \n",
       "218395  {'offer_id': 'f19421c1d4aa40978ebb69ca19b0e20d...   510  \n",
       "230412                                  {'amount': 26.56}   534  \n",
       "262138   {'offer id': 'f19421c1d4aa40978ebb69ca19b0e20d'}   582  "
      ]
     },
     "execution_count": 24,
     "metadata": {},
     "output_type": "execute_result"
    }
   ],
   "source": [
    "# View sample of one person\n",
    "one_customer_sample = transcript[transcript['person'] == '78afa995795e4d85b5d9ceeca43f5fef' ]\n",
    "one_customer_sample"
   ]
  },
  {
   "cell_type": "markdown",
   "metadata": {},
   "source": [
    "## Key Exploration Headlines\n",
    "* 10 distinct offers\n",
    "* 17,000 customer profiles\n",
    "* circa 300,000 transcript lines to analyse\n",
    "    * circa 140,000 transactions\n",
    "    * circa 76,000 offers received\n",
    "    * circa 58,000 offers viewed\n",
    "    * circa 34,000 offers completed\n",
    "    * nearly 30 days of transcript data from the start of the experiment"
   ]
  },
  {
   "cell_type": "markdown",
   "metadata": {},
   "source": [
    "### Modelling checklist\n",
    "* Replace age 118 with NaNs\n",
    "* Break out offer channels (e.g. email, mobile, social etc.)\n",
    "* Break out event types\n",
    "* Break out transcript value dict column"
   ]
  },
  {
   "cell_type": "markdown",
   "metadata": {},
   "source": [
    "# Data Preprocessing"
   ]
  },
  {
   "cell_type": "code",
   "execution_count": 25,
   "metadata": {},
   "outputs": [],
   "source": [
    "# Steps needed:\n",
    "\n",
    "# Clean profile dataframe (make age 118 into NaN; make gender None into NaN)  DONE\n",
    "\n",
    "# One Hot encode the gender column into four new columns in the profile dataframe   DONE\n",
    "\n",
    "# Explode out the one hot encoded channels on the portfolio dataframe   DONE\n",
    "\n",
    "# Split the transcript dataframe into four fact tables (different transaction types)  DONE\n",
    "\n",
    "# Explode out the values dict in each of the four new fact tables (to give the offer id or the amount)  DONE\n",
    "\n",
    "# Create df dataset for decision tree or randomforest classifier (predict whether a customer will respond to an offer) DONE\n"
   ]
  },
  {
   "cell_type": "markdown",
   "metadata": {},
   "source": [
    "### Clean and preprocess profile dataframe"
   ]
  },
  {
   "cell_type": "code",
   "execution_count": 26,
   "metadata": {},
   "outputs": [
    {
     "data": {
      "text/html": [
       "<div>\n",
       "<style scoped>\n",
       "    .dataframe tbody tr th:only-of-type {\n",
       "        vertical-align: middle;\n",
       "    }\n",
       "\n",
       "    .dataframe tbody tr th {\n",
       "        vertical-align: top;\n",
       "    }\n",
       "\n",
       "    .dataframe thead th {\n",
       "        text-align: right;\n",
       "    }\n",
       "</style>\n",
       "<table border=\"1\" class=\"dataframe\">\n",
       "  <thead>\n",
       "    <tr style=\"text-align: right;\">\n",
       "      <th></th>\n",
       "      <th>gender</th>\n",
       "      <th>age</th>\n",
       "      <th>id</th>\n",
       "      <th>became_member_on</th>\n",
       "      <th>income</th>\n",
       "    </tr>\n",
       "  </thead>\n",
       "  <tbody>\n",
       "    <tr>\n",
       "      <th>0</th>\n",
       "      <td>NaN</td>\n",
       "      <td>NaN</td>\n",
       "      <td>68be06ca386d4c31939f3a4f0e3dd783</td>\n",
       "      <td>2017-02-12</td>\n",
       "      <td>NaN</td>\n",
       "    </tr>\n",
       "    <tr>\n",
       "      <th>1</th>\n",
       "      <td>F</td>\n",
       "      <td>55.0</td>\n",
       "      <td>0610b486422d4921ae7d2bf64640c50b</td>\n",
       "      <td>2017-07-15</td>\n",
       "      <td>112000.0</td>\n",
       "    </tr>\n",
       "    <tr>\n",
       "      <th>2</th>\n",
       "      <td>NaN</td>\n",
       "      <td>NaN</td>\n",
       "      <td>38fe809add3b4fcf9315a9694bb96ff5</td>\n",
       "      <td>2018-07-12</td>\n",
       "      <td>NaN</td>\n",
       "    </tr>\n",
       "    <tr>\n",
       "      <th>3</th>\n",
       "      <td>F</td>\n",
       "      <td>75.0</td>\n",
       "      <td>78afa995795e4d85b5d9ceeca43f5fef</td>\n",
       "      <td>2017-05-09</td>\n",
       "      <td>100000.0</td>\n",
       "    </tr>\n",
       "    <tr>\n",
       "      <th>4</th>\n",
       "      <td>NaN</td>\n",
       "      <td>NaN</td>\n",
       "      <td>a03223e636434f42ac4c3df47e8bac43</td>\n",
       "      <td>2017-08-04</td>\n",
       "      <td>NaN</td>\n",
       "    </tr>\n",
       "    <tr>\n",
       "      <th>...</th>\n",
       "      <td>...</td>\n",
       "      <td>...</td>\n",
       "      <td>...</td>\n",
       "      <td>...</td>\n",
       "      <td>...</td>\n",
       "    </tr>\n",
       "    <tr>\n",
       "      <th>16995</th>\n",
       "      <td>F</td>\n",
       "      <td>45.0</td>\n",
       "      <td>6d5f3a774f3d4714ab0c092238f3a1d7</td>\n",
       "      <td>2018-06-04</td>\n",
       "      <td>54000.0</td>\n",
       "    </tr>\n",
       "    <tr>\n",
       "      <th>16996</th>\n",
       "      <td>M</td>\n",
       "      <td>61.0</td>\n",
       "      <td>2cb4f97358b841b9a9773a7aa05a9d77</td>\n",
       "      <td>2018-07-13</td>\n",
       "      <td>72000.0</td>\n",
       "    </tr>\n",
       "    <tr>\n",
       "      <th>16997</th>\n",
       "      <td>M</td>\n",
       "      <td>49.0</td>\n",
       "      <td>01d26f638c274aa0b965d24cefe3183f</td>\n",
       "      <td>2017-01-26</td>\n",
       "      <td>73000.0</td>\n",
       "    </tr>\n",
       "    <tr>\n",
       "      <th>16998</th>\n",
       "      <td>F</td>\n",
       "      <td>83.0</td>\n",
       "      <td>9dc1421481194dcd9400aec7c9ae6366</td>\n",
       "      <td>2016-03-07</td>\n",
       "      <td>50000.0</td>\n",
       "    </tr>\n",
       "    <tr>\n",
       "      <th>16999</th>\n",
       "      <td>F</td>\n",
       "      <td>62.0</td>\n",
       "      <td>e4052622e5ba45a8b96b59aba68cf068</td>\n",
       "      <td>2017-07-22</td>\n",
       "      <td>82000.0</td>\n",
       "    </tr>\n",
       "  </tbody>\n",
       "</table>\n",
       "<p>17000 rows × 5 columns</p>\n",
       "</div>"
      ],
      "text/plain": [
       "      gender   age                                id became_member_on  \\\n",
       "0        NaN   NaN  68be06ca386d4c31939f3a4f0e3dd783       2017-02-12   \n",
       "1          F  55.0  0610b486422d4921ae7d2bf64640c50b       2017-07-15   \n",
       "2        NaN   NaN  38fe809add3b4fcf9315a9694bb96ff5       2018-07-12   \n",
       "3          F  75.0  78afa995795e4d85b5d9ceeca43f5fef       2017-05-09   \n",
       "4        NaN   NaN  a03223e636434f42ac4c3df47e8bac43       2017-08-04   \n",
       "...      ...   ...                               ...              ...   \n",
       "16995      F  45.0  6d5f3a774f3d4714ab0c092238f3a1d7       2018-06-04   \n",
       "16996      M  61.0  2cb4f97358b841b9a9773a7aa05a9d77       2018-07-13   \n",
       "16997      M  49.0  01d26f638c274aa0b965d24cefe3183f       2017-01-26   \n",
       "16998      F  83.0  9dc1421481194dcd9400aec7c9ae6366       2016-03-07   \n",
       "16999      F  62.0  e4052622e5ba45a8b96b59aba68cf068       2017-07-22   \n",
       "\n",
       "         income  \n",
       "0           NaN  \n",
       "1      112000.0  \n",
       "2           NaN  \n",
       "3      100000.0  \n",
       "4           NaN  \n",
       "...         ...  \n",
       "16995   54000.0  \n",
       "16996   72000.0  \n",
       "16997   73000.0  \n",
       "16998   50000.0  \n",
       "16999   82000.0  \n",
       "\n",
       "[17000 rows x 5 columns]"
      ]
     },
     "execution_count": 26,
     "metadata": {},
     "output_type": "execute_result"
    }
   ],
   "source": [
    "# Make age 118 and gender None display as NaN, consistent with income - keep NaNs for now - can drop in model dataset if needed\n",
    "profile['age'].replace(118, np.nan, inplace=True)\n",
    "profile['gender'].fillna(value=np.nan, inplace=True)\n",
    "profile"
   ]
  },
  {
   "cell_type": "code",
   "execution_count": 27,
   "metadata": {},
   "outputs": [],
   "source": [
    "# One hot encode the gender categories - inluding dummy for nan\n",
    "one_hot = pd.get_dummies(profile['gender'], dummy_na=True)\n",
    "profile = profile.join(one_hot)"
   ]
  },
  {
   "cell_type": "code",
   "execution_count": 28,
   "metadata": {},
   "outputs": [],
   "source": [
    "# Rename columns to be useful later on\n",
    "profile.rename({'F':'gender_F','M':'gender_M','O':'gender_O'}, axis=1, inplace=True)\n",
    "profile.columns = profile.columns.fillna('gender_NaN')"
   ]
  },
  {
   "cell_type": "code",
   "execution_count": 29,
   "metadata": {},
   "outputs": [],
   "source": [
    "# Find max date for became member on - in order to set 'base date for membership duration'\n",
    "latest_member_date = profile['became_member_on'].max()"
   ]
  },
  {
   "cell_type": "code",
   "execution_count": 30,
   "metadata": {},
   "outputs": [],
   "source": [
    "# Create new column for membership duration\n",
    "profile['days_as_member'] = latest_member_date - profile['became_member_on']"
   ]
  },
  {
   "cell_type": "code",
   "execution_count": 31,
   "metadata": {},
   "outputs": [],
   "source": [
    "# Convert type from datetime to numeric for later modelling\n",
    "profile['days_as_member'] = pd.to_numeric(profile['days_as_member'].dt.days) + 7    \n",
    "\n",
    "# Add 7 was to ensure latest member has some days of membership (e.g. this analysis may have taken place 7 days after)"
   ]
  },
  {
   "cell_type": "code",
   "execution_count": 32,
   "metadata": {},
   "outputs": [],
   "source": [
    "# Create bins for days as member\n",
    "profile['days_as_member_bins'] = pd.cut(profile['days_as_member'], bins=5)"
   ]
  },
  {
   "cell_type": "code",
   "execution_count": 33,
   "metadata": {},
   "outputs": [],
   "source": [
    "# One hot encode the days as member bins - inluding dummy for nan\n",
    "one_hot = pd.get_dummies(profile['days_as_member_bins'], dummy_na=True, prefix='member_days')\n",
    "profile = profile.join(one_hot)"
   ]
  },
  {
   "cell_type": "code",
   "execution_count": 34,
   "metadata": {},
   "outputs": [],
   "source": [
    "# Create bins for income\n",
    "profile['income_bins'] = pd.cut(profile['income'], bins=5)"
   ]
  },
  {
   "cell_type": "code",
   "execution_count": 35,
   "metadata": {},
   "outputs": [],
   "source": [
    "# One hot encode the income bins - inluding dummy for nan\n",
    "one_hot = pd.get_dummies(profile['income_bins'], dummy_na=True, prefix='income')\n",
    "profile = profile.join(one_hot)"
   ]
  },
  {
   "cell_type": "code",
   "execution_count": 36,
   "metadata": {},
   "outputs": [
    {
     "data": {
      "text/html": [
       "<div>\n",
       "<style scoped>\n",
       "    .dataframe tbody tr th:only-of-type {\n",
       "        vertical-align: middle;\n",
       "    }\n",
       "\n",
       "    .dataframe tbody tr th {\n",
       "        vertical-align: top;\n",
       "    }\n",
       "\n",
       "    .dataframe thead th {\n",
       "        text-align: right;\n",
       "    }\n",
       "</style>\n",
       "<table border=\"1\" class=\"dataframe\">\n",
       "  <thead>\n",
       "    <tr style=\"text-align: right;\">\n",
       "      <th></th>\n",
       "      <th>gender</th>\n",
       "      <th>age</th>\n",
       "      <th>id</th>\n",
       "      <th>became_member_on</th>\n",
       "      <th>income</th>\n",
       "      <th>gender_F</th>\n",
       "      <th>gender_M</th>\n",
       "      <th>gender_O</th>\n",
       "      <th>gender_NaN</th>\n",
       "      <th>days_as_member</th>\n",
       "      <th>...</th>\n",
       "      <th>member_days_(1100.8, 1465.4]</th>\n",
       "      <th>member_days_(1465.4, 1830.0]</th>\n",
       "      <th>member_days_nan</th>\n",
       "      <th>income_bins</th>\n",
       "      <th>income_(29910.0, 48000.0]</th>\n",
       "      <th>income_(48000.0, 66000.0]</th>\n",
       "      <th>income_(66000.0, 84000.0]</th>\n",
       "      <th>income_(84000.0, 102000.0]</th>\n",
       "      <th>income_(102000.0, 120000.0]</th>\n",
       "      <th>income_nan</th>\n",
       "    </tr>\n",
       "  </thead>\n",
       "  <tbody>\n",
       "    <tr>\n",
       "      <th>0</th>\n",
       "      <td>NaN</td>\n",
       "      <td>NaN</td>\n",
       "      <td>68be06ca386d4c31939f3a4f0e3dd783</td>\n",
       "      <td>2017-02-12</td>\n",
       "      <td>NaN</td>\n",
       "      <td>0</td>\n",
       "      <td>0</td>\n",
       "      <td>0</td>\n",
       "      <td>1</td>\n",
       "      <td>536</td>\n",
       "      <td>...</td>\n",
       "      <td>0</td>\n",
       "      <td>0</td>\n",
       "      <td>0</td>\n",
       "      <td>NaN</td>\n",
       "      <td>0</td>\n",
       "      <td>0</td>\n",
       "      <td>0</td>\n",
       "      <td>0</td>\n",
       "      <td>0</td>\n",
       "      <td>1</td>\n",
       "    </tr>\n",
       "    <tr>\n",
       "      <th>1</th>\n",
       "      <td>F</td>\n",
       "      <td>55.0</td>\n",
       "      <td>0610b486422d4921ae7d2bf64640c50b</td>\n",
       "      <td>2017-07-15</td>\n",
       "      <td>112000.0</td>\n",
       "      <td>1</td>\n",
       "      <td>0</td>\n",
       "      <td>0</td>\n",
       "      <td>0</td>\n",
       "      <td>383</td>\n",
       "      <td>...</td>\n",
       "      <td>0</td>\n",
       "      <td>0</td>\n",
       "      <td>0</td>\n",
       "      <td>(102000.0, 120000.0]</td>\n",
       "      <td>0</td>\n",
       "      <td>0</td>\n",
       "      <td>0</td>\n",
       "      <td>0</td>\n",
       "      <td>1</td>\n",
       "      <td>0</td>\n",
       "    </tr>\n",
       "    <tr>\n",
       "      <th>2</th>\n",
       "      <td>NaN</td>\n",
       "      <td>NaN</td>\n",
       "      <td>38fe809add3b4fcf9315a9694bb96ff5</td>\n",
       "      <td>2018-07-12</td>\n",
       "      <td>NaN</td>\n",
       "      <td>0</td>\n",
       "      <td>0</td>\n",
       "      <td>0</td>\n",
       "      <td>1</td>\n",
       "      <td>21</td>\n",
       "      <td>...</td>\n",
       "      <td>0</td>\n",
       "      <td>0</td>\n",
       "      <td>0</td>\n",
       "      <td>NaN</td>\n",
       "      <td>0</td>\n",
       "      <td>0</td>\n",
       "      <td>0</td>\n",
       "      <td>0</td>\n",
       "      <td>0</td>\n",
       "      <td>1</td>\n",
       "    </tr>\n",
       "    <tr>\n",
       "      <th>3</th>\n",
       "      <td>F</td>\n",
       "      <td>75.0</td>\n",
       "      <td>78afa995795e4d85b5d9ceeca43f5fef</td>\n",
       "      <td>2017-05-09</td>\n",
       "      <td>100000.0</td>\n",
       "      <td>1</td>\n",
       "      <td>0</td>\n",
       "      <td>0</td>\n",
       "      <td>0</td>\n",
       "      <td>450</td>\n",
       "      <td>...</td>\n",
       "      <td>0</td>\n",
       "      <td>0</td>\n",
       "      <td>0</td>\n",
       "      <td>(84000.0, 102000.0]</td>\n",
       "      <td>0</td>\n",
       "      <td>0</td>\n",
       "      <td>0</td>\n",
       "      <td>1</td>\n",
       "      <td>0</td>\n",
       "      <td>0</td>\n",
       "    </tr>\n",
       "    <tr>\n",
       "      <th>4</th>\n",
       "      <td>NaN</td>\n",
       "      <td>NaN</td>\n",
       "      <td>a03223e636434f42ac4c3df47e8bac43</td>\n",
       "      <td>2017-08-04</td>\n",
       "      <td>NaN</td>\n",
       "      <td>0</td>\n",
       "      <td>0</td>\n",
       "      <td>0</td>\n",
       "      <td>1</td>\n",
       "      <td>363</td>\n",
       "      <td>...</td>\n",
       "      <td>0</td>\n",
       "      <td>0</td>\n",
       "      <td>0</td>\n",
       "      <td>NaN</td>\n",
       "      <td>0</td>\n",
       "      <td>0</td>\n",
       "      <td>0</td>\n",
       "      <td>0</td>\n",
       "      <td>0</td>\n",
       "      <td>1</td>\n",
       "    </tr>\n",
       "    <tr>\n",
       "      <th>...</th>\n",
       "      <td>...</td>\n",
       "      <td>...</td>\n",
       "      <td>...</td>\n",
       "      <td>...</td>\n",
       "      <td>...</td>\n",
       "      <td>...</td>\n",
       "      <td>...</td>\n",
       "      <td>...</td>\n",
       "      <td>...</td>\n",
       "      <td>...</td>\n",
       "      <td>...</td>\n",
       "      <td>...</td>\n",
       "      <td>...</td>\n",
       "      <td>...</td>\n",
       "      <td>...</td>\n",
       "      <td>...</td>\n",
       "      <td>...</td>\n",
       "      <td>...</td>\n",
       "      <td>...</td>\n",
       "      <td>...</td>\n",
       "      <td>...</td>\n",
       "    </tr>\n",
       "    <tr>\n",
       "      <th>16995</th>\n",
       "      <td>F</td>\n",
       "      <td>45.0</td>\n",
       "      <td>6d5f3a774f3d4714ab0c092238f3a1d7</td>\n",
       "      <td>2018-06-04</td>\n",
       "      <td>54000.0</td>\n",
       "      <td>1</td>\n",
       "      <td>0</td>\n",
       "      <td>0</td>\n",
       "      <td>0</td>\n",
       "      <td>59</td>\n",
       "      <td>...</td>\n",
       "      <td>0</td>\n",
       "      <td>0</td>\n",
       "      <td>0</td>\n",
       "      <td>(48000.0, 66000.0]</td>\n",
       "      <td>0</td>\n",
       "      <td>1</td>\n",
       "      <td>0</td>\n",
       "      <td>0</td>\n",
       "      <td>0</td>\n",
       "      <td>0</td>\n",
       "    </tr>\n",
       "    <tr>\n",
       "      <th>16996</th>\n",
       "      <td>M</td>\n",
       "      <td>61.0</td>\n",
       "      <td>2cb4f97358b841b9a9773a7aa05a9d77</td>\n",
       "      <td>2018-07-13</td>\n",
       "      <td>72000.0</td>\n",
       "      <td>0</td>\n",
       "      <td>1</td>\n",
       "      <td>0</td>\n",
       "      <td>0</td>\n",
       "      <td>20</td>\n",
       "      <td>...</td>\n",
       "      <td>0</td>\n",
       "      <td>0</td>\n",
       "      <td>0</td>\n",
       "      <td>(66000.0, 84000.0]</td>\n",
       "      <td>0</td>\n",
       "      <td>0</td>\n",
       "      <td>1</td>\n",
       "      <td>0</td>\n",
       "      <td>0</td>\n",
       "      <td>0</td>\n",
       "    </tr>\n",
       "    <tr>\n",
       "      <th>16997</th>\n",
       "      <td>M</td>\n",
       "      <td>49.0</td>\n",
       "      <td>01d26f638c274aa0b965d24cefe3183f</td>\n",
       "      <td>2017-01-26</td>\n",
       "      <td>73000.0</td>\n",
       "      <td>0</td>\n",
       "      <td>1</td>\n",
       "      <td>0</td>\n",
       "      <td>0</td>\n",
       "      <td>553</td>\n",
       "      <td>...</td>\n",
       "      <td>0</td>\n",
       "      <td>0</td>\n",
       "      <td>0</td>\n",
       "      <td>(66000.0, 84000.0]</td>\n",
       "      <td>0</td>\n",
       "      <td>0</td>\n",
       "      <td>1</td>\n",
       "      <td>0</td>\n",
       "      <td>0</td>\n",
       "      <td>0</td>\n",
       "    </tr>\n",
       "    <tr>\n",
       "      <th>16998</th>\n",
       "      <td>F</td>\n",
       "      <td>83.0</td>\n",
       "      <td>9dc1421481194dcd9400aec7c9ae6366</td>\n",
       "      <td>2016-03-07</td>\n",
       "      <td>50000.0</td>\n",
       "      <td>1</td>\n",
       "      <td>0</td>\n",
       "      <td>0</td>\n",
       "      <td>0</td>\n",
       "      <td>878</td>\n",
       "      <td>...</td>\n",
       "      <td>0</td>\n",
       "      <td>0</td>\n",
       "      <td>0</td>\n",
       "      <td>(48000.0, 66000.0]</td>\n",
       "      <td>0</td>\n",
       "      <td>1</td>\n",
       "      <td>0</td>\n",
       "      <td>0</td>\n",
       "      <td>0</td>\n",
       "      <td>0</td>\n",
       "    </tr>\n",
       "    <tr>\n",
       "      <th>16999</th>\n",
       "      <td>F</td>\n",
       "      <td>62.0</td>\n",
       "      <td>e4052622e5ba45a8b96b59aba68cf068</td>\n",
       "      <td>2017-07-22</td>\n",
       "      <td>82000.0</td>\n",
       "      <td>1</td>\n",
       "      <td>0</td>\n",
       "      <td>0</td>\n",
       "      <td>0</td>\n",
       "      <td>376</td>\n",
       "      <td>...</td>\n",
       "      <td>0</td>\n",
       "      <td>0</td>\n",
       "      <td>0</td>\n",
       "      <td>(66000.0, 84000.0]</td>\n",
       "      <td>0</td>\n",
       "      <td>0</td>\n",
       "      <td>1</td>\n",
       "      <td>0</td>\n",
       "      <td>0</td>\n",
       "      <td>0</td>\n",
       "    </tr>\n",
       "  </tbody>\n",
       "</table>\n",
       "<p>17000 rows × 24 columns</p>\n",
       "</div>"
      ],
      "text/plain": [
       "      gender   age                                id became_member_on  \\\n",
       "0        NaN   NaN  68be06ca386d4c31939f3a4f0e3dd783       2017-02-12   \n",
       "1          F  55.0  0610b486422d4921ae7d2bf64640c50b       2017-07-15   \n",
       "2        NaN   NaN  38fe809add3b4fcf9315a9694bb96ff5       2018-07-12   \n",
       "3          F  75.0  78afa995795e4d85b5d9ceeca43f5fef       2017-05-09   \n",
       "4        NaN   NaN  a03223e636434f42ac4c3df47e8bac43       2017-08-04   \n",
       "...      ...   ...                               ...              ...   \n",
       "16995      F  45.0  6d5f3a774f3d4714ab0c092238f3a1d7       2018-06-04   \n",
       "16996      M  61.0  2cb4f97358b841b9a9773a7aa05a9d77       2018-07-13   \n",
       "16997      M  49.0  01d26f638c274aa0b965d24cefe3183f       2017-01-26   \n",
       "16998      F  83.0  9dc1421481194dcd9400aec7c9ae6366       2016-03-07   \n",
       "16999      F  62.0  e4052622e5ba45a8b96b59aba68cf068       2017-07-22   \n",
       "\n",
       "         income  gender_F  gender_M  gender_O  gender_NaN  days_as_member  \\\n",
       "0           NaN         0         0         0           1             536   \n",
       "1      112000.0         1         0         0           0             383   \n",
       "2           NaN         0         0         0           1              21   \n",
       "3      100000.0         1         0         0           0             450   \n",
       "4           NaN         0         0         0           1             363   \n",
       "...         ...       ...       ...       ...         ...             ...   \n",
       "16995   54000.0         1         0         0           0              59   \n",
       "16996   72000.0         0         1         0           0              20   \n",
       "16997   73000.0         0         1         0           0             553   \n",
       "16998   50000.0         1         0         0           0             878   \n",
       "16999   82000.0         1         0         0           0             376   \n",
       "\n",
       "       ... member_days_(1100.8, 1465.4]  member_days_(1465.4, 1830.0]  \\\n",
       "0      ...                            0                             0   \n",
       "1      ...                            0                             0   \n",
       "2      ...                            0                             0   \n",
       "3      ...                            0                             0   \n",
       "4      ...                            0                             0   \n",
       "...    ...                          ...                           ...   \n",
       "16995  ...                            0                             0   \n",
       "16996  ...                            0                             0   \n",
       "16997  ...                            0                             0   \n",
       "16998  ...                            0                             0   \n",
       "16999  ...                            0                             0   \n",
       "\n",
       "       member_days_nan           income_bins  income_(29910.0, 48000.0]  \\\n",
       "0                    0                   NaN                          0   \n",
       "1                    0  (102000.0, 120000.0]                          0   \n",
       "2                    0                   NaN                          0   \n",
       "3                    0   (84000.0, 102000.0]                          0   \n",
       "4                    0                   NaN                          0   \n",
       "...                ...                   ...                        ...   \n",
       "16995                0    (48000.0, 66000.0]                          0   \n",
       "16996                0    (66000.0, 84000.0]                          0   \n",
       "16997                0    (66000.0, 84000.0]                          0   \n",
       "16998                0    (48000.0, 66000.0]                          0   \n",
       "16999                0    (66000.0, 84000.0]                          0   \n",
       "\n",
       "       income_(48000.0, 66000.0]  income_(66000.0, 84000.0]  \\\n",
       "0                              0                          0   \n",
       "1                              0                          0   \n",
       "2                              0                          0   \n",
       "3                              0                          0   \n",
       "4                              0                          0   \n",
       "...                          ...                        ...   \n",
       "16995                          1                          0   \n",
       "16996                          0                          1   \n",
       "16997                          0                          1   \n",
       "16998                          1                          0   \n",
       "16999                          0                          1   \n",
       "\n",
       "      income_(84000.0, 102000.0]  income_(102000.0, 120000.0]  income_nan  \n",
       "0                              0                            0           1  \n",
       "1                              0                            1           0  \n",
       "2                              0                            0           1  \n",
       "3                              1                            0           0  \n",
       "4                              0                            0           1  \n",
       "...                          ...                          ...         ...  \n",
       "16995                          0                            0           0  \n",
       "16996                          0                            0           0  \n",
       "16997                          0                            0           0  \n",
       "16998                          0                            0           0  \n",
       "16999                          0                            0           0  \n",
       "\n",
       "[17000 rows x 24 columns]"
      ]
     },
     "execution_count": 36,
     "metadata": {},
     "output_type": "execute_result"
    }
   ],
   "source": [
    "profile"
   ]
  },
  {
   "cell_type": "markdown",
   "metadata": {},
   "source": [
    "### Clean and preprocess portfolio dataframe"
   ]
  },
  {
   "cell_type": "code",
   "execution_count": 37,
   "metadata": {},
   "outputs": [],
   "source": [
    "# One hot encode from the list items - channels of offer communication\n",
    "portfolio = portfolio.join(pd.get_dummies(pd.DataFrame(portfolio['channels'].values.tolist()).stack()).astype(int).sum(level=0))\n",
    "\n",
    "\n",
    "### credit to reference: https://stackoverflow.com/questions/45312377/how-to-one-hot-encode-from-a-pandas-column-containing-a-list"
   ]
  },
  {
   "cell_type": "code",
   "execution_count": 38,
   "metadata": {},
   "outputs": [],
   "source": [
    "# Rename columns to be useful later on\n",
    "portfolio.rename({'email':'channel_email',\n",
    "                  'mobile':'channel_mobile',\n",
    "                  'social':'channel_social',\n",
    "                  'web':'channel_web'}, axis=1, inplace=True)"
   ]
  },
  {
   "cell_type": "code",
   "execution_count": 39,
   "metadata": {},
   "outputs": [],
   "source": [
    "# One hot encode the offer_type categories\n",
    "one_hot = pd.get_dummies(portfolio['offer_type'])\n",
    "portfolio = portfolio.join(one_hot)"
   ]
  },
  {
   "cell_type": "code",
   "execution_count": 40,
   "metadata": {},
   "outputs": [],
   "source": [
    "# Rename columns to be useful later on\n",
    "portfolio.rename({'bogo':'offer_type_bogo',\n",
    "                  'informational':'offer_type_informational',\n",
    "                  'discount':'offer_type_discount',\n",
    "                  'reward':'offer_reward',\n",
    "                 'difficulty': 'offer_difficulty',\n",
    "                 'duration':'offer_duration'}, axis=1, inplace=True)"
   ]
  },
  {
   "cell_type": "markdown",
   "metadata": {},
   "source": [
    "### Split transcript dataframe into four fact table dataframes (different event types)"
   ]
  },
  {
   "cell_type": "code",
   "execution_count": 41,
   "metadata": {},
   "outputs": [],
   "source": [
    "# create four separate fact tables (dataframes) from the transcript\n",
    "fact_offer_received_df = transcript[transcript['event'] == 'offer received']\n",
    "fact_offer_viewed_df = transcript[transcript['event'] == 'offer viewed']\n",
    "fact_offer_completed_df = transcript[transcript['event'] == 'offer completed']\n",
    "fact_transactions_df = transcript[transcript['event'] == 'transaction']\n"
   ]
  },
  {
   "cell_type": "code",
   "execution_count": 42,
   "metadata": {},
   "outputs": [],
   "source": [
    "# Create temporary dataframe to extract values from the dicts for offer received fact table\n",
    "values_split = pd.DataFrame(fact_offer_received_df['value'].values.tolist(), index=fact_offer_received_df.index)\n",
    "\n",
    "# Append this column to the fact table dataframe\n",
    "fact_offer_received_df = pd.concat([fact_offer_received_df, values_split], axis=1)\n"
   ]
  },
  {
   "cell_type": "code",
   "execution_count": 43,
   "metadata": {},
   "outputs": [],
   "source": [
    "# Create temporary dataframe to extract values from the dicts for offer viewed fact table\n",
    "values_split = pd.DataFrame(fact_offer_viewed_df['value'].values.tolist(), index=fact_offer_viewed_df.index)\n",
    "\n",
    "# Append this column to the fact table dataframe\n",
    "fact_offer_viewed_df = pd.concat([fact_offer_viewed_df, values_split], axis=1)"
   ]
  },
  {
   "cell_type": "code",
   "execution_count": 44,
   "metadata": {},
   "outputs": [],
   "source": [
    "# Create temporary dataframe to extract values from the dicts for offer completed fact table\n",
    "values_split = pd.DataFrame(fact_offer_completed_df['value'].values.tolist(), index=fact_offer_completed_df.index)\n",
    "\n",
    "# Append this column to the fact table dataframe\n",
    "fact_offer_completed_df = pd.concat([fact_offer_completed_df, values_split], axis=1)\n",
    "\n",
    "# Rename the offer_id column as offer id in line with other two fact tables\n",
    "fact_offer_completed_df.rename({'offer_id':'offer id'}, axis=1, inplace=True)"
   ]
  },
  {
   "cell_type": "code",
   "execution_count": 45,
   "metadata": {},
   "outputs": [],
   "source": [
    "# Create temporary dataframe to extract values from the dicts for transactions fact table\n",
    "values_split = pd.DataFrame(fact_transactions_df['value'].values.tolist(), index=fact_transactions_df.index)\n",
    "\n",
    "# Append this column to the fact table dataframe\n",
    "fact_transactions_df = pd.concat([fact_transactions_df, values_split], axis=1)"
   ]
  },
  {
   "cell_type": "markdown",
   "metadata": {},
   "source": [
    "### Create model dataset"
   ]
  },
  {
   "cell_type": "code",
   "execution_count": 46,
   "metadata": {},
   "outputs": [],
   "source": [
    "# Create responses dataframe with selected columns from offer received fact table as start point\n",
    "responses_df = fact_offer_received_df[['person', 'event', 'time', 'offer id']]"
   ]
  },
  {
   "cell_type": "code",
   "execution_count": 47,
   "metadata": {},
   "outputs": [],
   "source": [
    "# Merge with portfolio to bring in the offer features for each row - check row count still 76,277\n",
    "responses_df = responses_df.merge(portfolio, left_on='offer id', right_on='id')"
   ]
  },
  {
   "cell_type": "code",
   "execution_count": 48,
   "metadata": {},
   "outputs": [
    {
     "data": {
      "text/plain": [
       "(76277, 41)"
      ]
     },
     "execution_count": 48,
     "metadata": {},
     "output_type": "execute_result"
    }
   ],
   "source": [
    "# Merge with profile to bring in the customer features for each row - check row count still 76,277\n",
    "responses_df = responses_df.merge(profile, left_on='person', right_on='id')\n",
    "responses_df.shape"
   ]
  },
  {
   "cell_type": "code",
   "execution_count": 49,
   "metadata": {},
   "outputs": [
    {
     "data": {
      "text/plain": [
       "person                             0\n",
       "event                              0\n",
       "time                               0\n",
       "offer id                           0\n",
       "offer_reward                       0\n",
       "channels                           0\n",
       "offer_difficulty                   0\n",
       "offer_duration                     0\n",
       "offer_type                         0\n",
       "id_x                               0\n",
       "channel_email                      0\n",
       "channel_mobile                     0\n",
       "channel_social                     0\n",
       "channel_web                        0\n",
       "offer_type_bogo                    0\n",
       "offer_type_discount                0\n",
       "offer_type_informational           0\n",
       "gender                          9776\n",
       "age                             9776\n",
       "id_y                               0\n",
       "became_member_on                   0\n",
       "income                          9776\n",
       "gender_F                           0\n",
       "gender_M                           0\n",
       "gender_O                           0\n",
       "gender_NaN                         0\n",
       "days_as_member                     0\n",
       "days_as_member_bins                0\n",
       "member_days_(5.177, 371.6]         0\n",
       "member_days_(371.6, 736.2]         0\n",
       "member_days_(736.2, 1100.8]        0\n",
       "member_days_(1100.8, 1465.4]       0\n",
       "member_days_(1465.4, 1830.0]       0\n",
       "member_days_nan                    0\n",
       "income_bins                     9776\n",
       "income_(29910.0, 48000.0]          0\n",
       "income_(48000.0, 66000.0]          0\n",
       "income_(66000.0, 84000.0]          0\n",
       "income_(84000.0, 102000.0]         0\n",
       "income_(102000.0, 120000.0]        0\n",
       "income_nan                         0\n",
       "dtype: int64"
      ]
     },
     "execution_count": 49,
     "metadata": {},
     "output_type": "execute_result"
    }
   ],
   "source": [
    "# NaNs driven from the 2,175 profiles with missing data - to be dropped\n",
    "responses_df.isna().sum()"
   ]
  },
  {
   "cell_type": "code",
   "execution_count": 50,
   "metadata": {},
   "outputs": [
    {
     "data": {
      "text/plain": [
       "(66501, 41)"
      ]
     },
     "execution_count": 50,
     "metadata": {},
     "output_type": "execute_result"
    }
   ],
   "source": [
    "# Drop the NaN rows - leaves 66,501 in the dataset\n",
    "responses_df = responses_df.dropna(axis=0)\n",
    "responses_df.shape"
   ]
  },
  {
   "cell_type": "code",
   "execution_count": 51,
   "metadata": {},
   "outputs": [],
   "source": [
    "# Filter out unexpired offers\n",
    "\n",
    "# create a column to hold the expiry time for each offer receivedj\n",
    "responses_df['offer_expiry_time'] = responses_df['time'] + (responses_df['offer_duration'] * 24)\n",
    "\n",
    "# Max time for the experiment (i.e. the final time in the transcript) is 714 - filter out any expiries after this time\n",
    "responses_df = responses_df[responses_df['offer_expiry_time'] <= 714]"
   ]
  },
  {
   "cell_type": "code",
   "execution_count": 52,
   "metadata": {},
   "outputs": [
    {
     "data": {
      "text/plain": [
       "(57561, 42)"
      ]
     },
     "execution_count": 52,
     "metadata": {},
     "output_type": "execute_result"
    }
   ],
   "source": [
    "# This leaves 57,561 offers in the dataset that had enough time to be completed within the experiment time frame\n",
    "responses_df.shape"
   ]
  },
  {
   "cell_type": "code",
   "execution_count": 53,
   "metadata": {},
   "outputs": [],
   "source": [
    "# Build function to work out the offer view time for each person/offer_id/time event - offer view must be after offer received\n",
    "\n",
    "def find_offer_viewed_time(person, offer_id, time):\n",
    "    \"\"\"\n",
    "    INPUT:\n",
    "        person - person id\n",
    "        offer_id - offer id\n",
    "        time - time (in hours since start of experiment)\n",
    "        \n",
    "    OUTPUT:\n",
    "        result - a single integer to show the time when and offer was viewed or NaN if not viewed\n",
    "        NB - this also makes sure the time viewed is not prior to the time received\n",
    "        \n",
    "    \n",
    "    \"\"\"\n",
    "    result = fact_offer_viewed_df[(fact_offer_viewed_df['person'] == person) \n",
    "                     &  (fact_offer_viewed_df['time'] >= time) \n",
    "                     & (fact_offer_viewed_df['offer id'] == offer_id)]['time'].min()\n",
    "    return result"
   ]
  },
  {
   "cell_type": "code",
   "execution_count": 54,
   "metadata": {},
   "outputs": [],
   "source": [
    "# WARNING - this cell takes a few minutes to run (between 5 - 10 mins)\n",
    "\n",
    "# Apply function to create new column confirming the offer view time (this takes a few minutes to run)\n",
    "responses_df['offer_viewed_time'] = responses_df[['person','offer id', 'time']].apply(lambda x: find_offer_viewed_time(*x), axis=1)"
   ]
  },
  {
   "cell_type": "code",
   "execution_count": 55,
   "metadata": {},
   "outputs": [],
   "source": [
    "# Create offer viewed column - 1 or 0 response column (i.e. was a certain offer viewed after being received?)\n",
    "responses_df['offer_viewed'] = [1 if x >= 0 else 0 for x in responses_df['offer_viewed_time']]"
   ]
  },
  {
   "cell_type": "code",
   "execution_count": 56,
   "metadata": {},
   "outputs": [
    {
     "data": {
      "text/plain": [
       "44734"
      ]
     },
     "execution_count": 56,
     "metadata": {},
     "output_type": "execute_result"
    }
   ],
   "source": [
    "# Check how many of the 57,561 offers received were viewed\n",
    "responses_df['offer_viewed'].sum()"
   ]
  },
  {
   "cell_type": "code",
   "execution_count": 57,
   "metadata": {},
   "outputs": [],
   "source": [
    "# Build function to work out offer completed time for each person/offer_id/timeviewed event - completion must be after view\n",
    "def find_offer_completed_time(person, offer_id, time_viewed):\n",
    "    \"\"\"\n",
    "    INPUT:\n",
    "        person - person id\n",
    "        offer_id - offer id\n",
    "        time_viewed - time viewed (in hours since start of experiment)\n",
    "        \n",
    "    OUTPUT:\n",
    "        result - a single integer to show the time when and offer was completed or NaN if not completed\n",
    "        NB - this also makes sure the time completed is not prior to the time viewed\n",
    "        \n",
    "    \n",
    "    \"\"\"\n",
    "    result = fact_offer_completed_df[(fact_offer_completed_df['person'] == person)\n",
    "                                    & (fact_offer_completed_df['time'] >= time_viewed)\n",
    "                                    & (fact_offer_completed_df['offer id'] == offer_id)]['time'].min()\n",
    "    \n",
    "    return result"
   ]
  },
  {
   "cell_type": "code",
   "execution_count": 58,
   "metadata": {},
   "outputs": [
    {
     "data": {
      "text/plain": [
       "nan"
      ]
     },
     "execution_count": 58,
     "metadata": {},
     "output_type": "execute_result"
    }
   ],
   "source": [
    "# Test function - use this cell to test the function for any combination of person, offer id and time from transcript\n",
    "find_offer_completed_time('3e6571afb8b242a09de76e353a2b3fc7', '4d5c57ea9a6940dd891ad53e9dbe8da0', 570)"
   ]
  },
  {
   "cell_type": "code",
   "execution_count": 59,
   "metadata": {},
   "outputs": [],
   "source": [
    "# WARNING - this cell takes a few minutes to run (between 5 - 10 mins) - consider an np.where approach if possible\n",
    "\n",
    "# Apply function to create new column confirming the offer completed time (this takes a few minutes to run)\n",
    "responses_df['offer_completed_time'] = responses_df[['person','offer id', 'time']].apply(lambda x: find_offer_completed_time(*x), axis=1)"
   ]
  },
  {
   "cell_type": "code",
   "execution_count": 60,
   "metadata": {},
   "outputs": [],
   "source": [
    "# Create offer completed column - 1 or 0 - (i.e. was an offer completed after being viewed?)\n",
    "responses_df['offer_completed'] = [1 if x >= 0 else 0 for x in responses_df['offer_completed_time']]"
   ]
  },
  {
   "cell_type": "code",
   "execution_count": 61,
   "metadata": {},
   "outputs": [
    {
     "data": {
      "text/plain": [
       "28299"
      ]
     },
     "execution_count": 61,
     "metadata": {},
     "output_type": "execute_result"
    }
   ],
   "source": [
    "# Check how many offers were completed\n",
    "responses_df['offer_completed'].sum()"
   ]
  },
  {
   "cell_type": "code",
   "execution_count": 62,
   "metadata": {},
   "outputs": [],
   "source": [
    "# Create final column for viewed then completed - including logic that completed must be after viewed\n",
    "responses_df['offer_viewed_then_completed'] = np.where(\n",
    "    (responses_df['offer_viewed_time'] > responses_df['offer_completed_time']) |\n",
    "    (responses_df['offer_viewed'] == 0) | \n",
    "    (responses_df['offer_completed'] == 0), \n",
    "         0, \n",
    "         1)"
   ]
  },
  {
   "cell_type": "code",
   "execution_count": 63,
   "metadata": {},
   "outputs": [
    {
     "data": {
      "text/plain": [
       "(57561, 47)"
      ]
     },
     "execution_count": 63,
     "metadata": {},
     "output_type": "execute_result"
    }
   ],
   "source": [
    "# Check the shape still has 57,561 rows\n",
    "responses_df.shape"
   ]
  },
  {
   "cell_type": "code",
   "execution_count": 64,
   "metadata": {},
   "outputs": [
    {
     "data": {
      "text/plain": [
       "Index(['person', 'event', 'time', 'offer id', 'offer_reward', 'channels',\n",
       "       'offer_difficulty', 'offer_duration', 'offer_type', 'id_x',\n",
       "       'channel_email', 'channel_mobile', 'channel_social', 'channel_web',\n",
       "       'offer_type_bogo', 'offer_type_discount', 'offer_type_informational',\n",
       "       'gender', 'age', 'id_y', 'became_member_on', 'income', 'gender_F',\n",
       "       'gender_M', 'gender_O', 'gender_NaN', 'days_as_member',\n",
       "       'days_as_member_bins', 'member_days_(5.177, 371.6]',\n",
       "       'member_days_(371.6, 736.2]', 'member_days_(736.2, 1100.8]',\n",
       "       'member_days_(1100.8, 1465.4]', 'member_days_(1465.4, 1830.0]',\n",
       "       'member_days_nan', 'income_bins', 'income_(29910.0, 48000.0]',\n",
       "       'income_(48000.0, 66000.0]', 'income_(66000.0, 84000.0]',\n",
       "       'income_(84000.0, 102000.0]', 'income_(102000.0, 120000.0]',\n",
       "       'income_nan', 'offer_expiry_time', 'offer_viewed_time', 'offer_viewed',\n",
       "       'offer_completed_time', 'offer_completed',\n",
       "       'offer_viewed_then_completed'],\n",
       "      dtype='object')"
      ]
     },
     "execution_count": 64,
     "metadata": {},
     "output_type": "execute_result"
    }
   ],
   "source": [
    "# Review columns in the dataframe\n",
    "responses_df.columns"
   ]
  },
  {
   "cell_type": "code",
   "execution_count": 65,
   "metadata": {},
   "outputs": [],
   "source": [
    "# Create model ready dataframe - drop unnecessary columns\n",
    "responses_df = responses_df[\n",
    "            ['offer_reward',\n",
    "             'offer_difficulty',\n",
    "             'offer_duration',\n",
    "             'channel_email',\n",
    "             'channel_mobile',\n",
    "             'channel_social',\n",
    "             'channel_web',\n",
    "             'offer_type_bogo',\n",
    "             'offer_type_discount',\n",
    "             'offer_type_informational',\n",
    "             'age',\n",
    "             'income',\n",
    "             'gender_F',\n",
    "             'gender_M',\n",
    "             'gender_O',\n",
    "             'gender_NaN',\n",
    "             'member_days_(5.177, 371.6]',\n",
    "             'member_days_(371.6, 736.2]', \n",
    "             'member_days_(736.2, 1100.8]',\n",
    "             'member_days_(1100.8, 1465.4]', \n",
    "             'member_days_(1465.4, 1830.0]',\n",
    "             'member_days_nan', \n",
    "             'income_(29910.0, 48000.0]',\n",
    "             'income_(48000.0, 66000.0]', \n",
    "             'income_(66000.0, 84000.0]',\n",
    "             'income_(84000.0, 102000.0]', \n",
    "             'income_(102000.0, 120000.0]',\n",
    "             'income_nan',\n",
    "             'offer_viewed_then_completed']\n",
    "            ]"
   ]
  },
  {
   "cell_type": "code",
   "execution_count": 66,
   "metadata": {},
   "outputs": [
    {
     "data": {
      "text/html": [
       "<div>\n",
       "<style scoped>\n",
       "    .dataframe tbody tr th:only-of-type {\n",
       "        vertical-align: middle;\n",
       "    }\n",
       "\n",
       "    .dataframe tbody tr th {\n",
       "        vertical-align: top;\n",
       "    }\n",
       "\n",
       "    .dataframe thead th {\n",
       "        text-align: right;\n",
       "    }\n",
       "</style>\n",
       "<table border=\"1\" class=\"dataframe\">\n",
       "  <thead>\n",
       "    <tr style=\"text-align: right;\">\n",
       "      <th></th>\n",
       "      <th>offer_reward</th>\n",
       "      <th>offer_difficulty</th>\n",
       "      <th>offer_duration</th>\n",
       "      <th>channel_email</th>\n",
       "      <th>channel_mobile</th>\n",
       "      <th>channel_social</th>\n",
       "      <th>channel_web</th>\n",
       "      <th>offer_type_bogo</th>\n",
       "      <th>offer_type_discount</th>\n",
       "      <th>offer_type_informational</th>\n",
       "      <th>...</th>\n",
       "      <th>member_days_(1100.8, 1465.4]</th>\n",
       "      <th>member_days_(1465.4, 1830.0]</th>\n",
       "      <th>member_days_nan</th>\n",
       "      <th>income_(29910.0, 48000.0]</th>\n",
       "      <th>income_(48000.0, 66000.0]</th>\n",
       "      <th>income_(66000.0, 84000.0]</th>\n",
       "      <th>income_(84000.0, 102000.0]</th>\n",
       "      <th>income_(102000.0, 120000.0]</th>\n",
       "      <th>income_nan</th>\n",
       "      <th>offer_viewed_then_completed</th>\n",
       "    </tr>\n",
       "  </thead>\n",
       "  <tbody>\n",
       "    <tr>\n",
       "      <th>0</th>\n",
       "      <td>5</td>\n",
       "      <td>5</td>\n",
       "      <td>7</td>\n",
       "      <td>1</td>\n",
       "      <td>1</td>\n",
       "      <td>0</td>\n",
       "      <td>1</td>\n",
       "      <td>1</td>\n",
       "      <td>0</td>\n",
       "      <td>0</td>\n",
       "      <td>...</td>\n",
       "      <td>0</td>\n",
       "      <td>0</td>\n",
       "      <td>0</td>\n",
       "      <td>0</td>\n",
       "      <td>0</td>\n",
       "      <td>0</td>\n",
       "      <td>1</td>\n",
       "      <td>0</td>\n",
       "      <td>0</td>\n",
       "      <td>1</td>\n",
       "    </tr>\n",
       "    <tr>\n",
       "      <th>1</th>\n",
       "      <td>5</td>\n",
       "      <td>5</td>\n",
       "      <td>5</td>\n",
       "      <td>1</td>\n",
       "      <td>1</td>\n",
       "      <td>1</td>\n",
       "      <td>1</td>\n",
       "      <td>1</td>\n",
       "      <td>0</td>\n",
       "      <td>0</td>\n",
       "      <td>...</td>\n",
       "      <td>0</td>\n",
       "      <td>0</td>\n",
       "      <td>0</td>\n",
       "      <td>0</td>\n",
       "      <td>0</td>\n",
       "      <td>0</td>\n",
       "      <td>1</td>\n",
       "      <td>0</td>\n",
       "      <td>0</td>\n",
       "      <td>0</td>\n",
       "    </tr>\n",
       "    <tr>\n",
       "      <th>2</th>\n",
       "      <td>10</td>\n",
       "      <td>10</td>\n",
       "      <td>7</td>\n",
       "      <td>1</td>\n",
       "      <td>1</td>\n",
       "      <td>1</td>\n",
       "      <td>0</td>\n",
       "      <td>1</td>\n",
       "      <td>0</td>\n",
       "      <td>0</td>\n",
       "      <td>...</td>\n",
       "      <td>0</td>\n",
       "      <td>0</td>\n",
       "      <td>0</td>\n",
       "      <td>0</td>\n",
       "      <td>0</td>\n",
       "      <td>0</td>\n",
       "      <td>1</td>\n",
       "      <td>0</td>\n",
       "      <td>0</td>\n",
       "      <td>1</td>\n",
       "    </tr>\n",
       "    <tr>\n",
       "      <th>3</th>\n",
       "      <td>0</td>\n",
       "      <td>0</td>\n",
       "      <td>3</td>\n",
       "      <td>1</td>\n",
       "      <td>1</td>\n",
       "      <td>1</td>\n",
       "      <td>0</td>\n",
       "      <td>0</td>\n",
       "      <td>0</td>\n",
       "      <td>1</td>\n",
       "      <td>...</td>\n",
       "      <td>0</td>\n",
       "      <td>0</td>\n",
       "      <td>0</td>\n",
       "      <td>0</td>\n",
       "      <td>0</td>\n",
       "      <td>0</td>\n",
       "      <td>1</td>\n",
       "      <td>0</td>\n",
       "      <td>0</td>\n",
       "      <td>0</td>\n",
       "    </tr>\n",
       "    <tr>\n",
       "      <th>4</th>\n",
       "      <td>5</td>\n",
       "      <td>5</td>\n",
       "      <td>7</td>\n",
       "      <td>1</td>\n",
       "      <td>1</td>\n",
       "      <td>0</td>\n",
       "      <td>1</td>\n",
       "      <td>1</td>\n",
       "      <td>0</td>\n",
       "      <td>0</td>\n",
       "      <td>...</td>\n",
       "      <td>1</td>\n",
       "      <td>0</td>\n",
       "      <td>0</td>\n",
       "      <td>1</td>\n",
       "      <td>0</td>\n",
       "      <td>0</td>\n",
       "      <td>0</td>\n",
       "      <td>0</td>\n",
       "      <td>0</td>\n",
       "      <td>0</td>\n",
       "    </tr>\n",
       "    <tr>\n",
       "      <th>...</th>\n",
       "      <td>...</td>\n",
       "      <td>...</td>\n",
       "      <td>...</td>\n",
       "      <td>...</td>\n",
       "      <td>...</td>\n",
       "      <td>...</td>\n",
       "      <td>...</td>\n",
       "      <td>...</td>\n",
       "      <td>...</td>\n",
       "      <td>...</td>\n",
       "      <td>...</td>\n",
       "      <td>...</td>\n",
       "      <td>...</td>\n",
       "      <td>...</td>\n",
       "      <td>...</td>\n",
       "      <td>...</td>\n",
       "      <td>...</td>\n",
       "      <td>...</td>\n",
       "      <td>...</td>\n",
       "      <td>...</td>\n",
       "      <td>...</td>\n",
       "    </tr>\n",
       "    <tr>\n",
       "      <th>76270</th>\n",
       "      <td>0</td>\n",
       "      <td>0</td>\n",
       "      <td>3</td>\n",
       "      <td>1</td>\n",
       "      <td>1</td>\n",
       "      <td>1</td>\n",
       "      <td>0</td>\n",
       "      <td>0</td>\n",
       "      <td>0</td>\n",
       "      <td>1</td>\n",
       "      <td>...</td>\n",
       "      <td>0</td>\n",
       "      <td>0</td>\n",
       "      <td>0</td>\n",
       "      <td>0</td>\n",
       "      <td>0</td>\n",
       "      <td>1</td>\n",
       "      <td>0</td>\n",
       "      <td>0</td>\n",
       "      <td>0</td>\n",
       "      <td>0</td>\n",
       "    </tr>\n",
       "    <tr>\n",
       "      <th>76271</th>\n",
       "      <td>0</td>\n",
       "      <td>0</td>\n",
       "      <td>3</td>\n",
       "      <td>1</td>\n",
       "      <td>1</td>\n",
       "      <td>1</td>\n",
       "      <td>0</td>\n",
       "      <td>0</td>\n",
       "      <td>0</td>\n",
       "      <td>1</td>\n",
       "      <td>...</td>\n",
       "      <td>0</td>\n",
       "      <td>0</td>\n",
       "      <td>0</td>\n",
       "      <td>0</td>\n",
       "      <td>0</td>\n",
       "      <td>1</td>\n",
       "      <td>0</td>\n",
       "      <td>0</td>\n",
       "      <td>0</td>\n",
       "      <td>0</td>\n",
       "    </tr>\n",
       "    <tr>\n",
       "      <th>76273</th>\n",
       "      <td>0</td>\n",
       "      <td>0</td>\n",
       "      <td>3</td>\n",
       "      <td>1</td>\n",
       "      <td>1</td>\n",
       "      <td>1</td>\n",
       "      <td>0</td>\n",
       "      <td>0</td>\n",
       "      <td>0</td>\n",
       "      <td>1</td>\n",
       "      <td>...</td>\n",
       "      <td>0</td>\n",
       "      <td>0</td>\n",
       "      <td>0</td>\n",
       "      <td>0</td>\n",
       "      <td>1</td>\n",
       "      <td>0</td>\n",
       "      <td>0</td>\n",
       "      <td>0</td>\n",
       "      <td>0</td>\n",
       "      <td>0</td>\n",
       "    </tr>\n",
       "    <tr>\n",
       "      <th>76274</th>\n",
       "      <td>0</td>\n",
       "      <td>0</td>\n",
       "      <td>3</td>\n",
       "      <td>1</td>\n",
       "      <td>1</td>\n",
       "      <td>1</td>\n",
       "      <td>0</td>\n",
       "      <td>0</td>\n",
       "      <td>0</td>\n",
       "      <td>1</td>\n",
       "      <td>...</td>\n",
       "      <td>0</td>\n",
       "      <td>0</td>\n",
       "      <td>0</td>\n",
       "      <td>0</td>\n",
       "      <td>1</td>\n",
       "      <td>0</td>\n",
       "      <td>0</td>\n",
       "      <td>0</td>\n",
       "      <td>0</td>\n",
       "      <td>0</td>\n",
       "    </tr>\n",
       "    <tr>\n",
       "      <th>76276</th>\n",
       "      <td>0</td>\n",
       "      <td>0</td>\n",
       "      <td>3</td>\n",
       "      <td>1</td>\n",
       "      <td>1</td>\n",
       "      <td>1</td>\n",
       "      <td>0</td>\n",
       "      <td>0</td>\n",
       "      <td>0</td>\n",
       "      <td>1</td>\n",
       "      <td>...</td>\n",
       "      <td>0</td>\n",
       "      <td>0</td>\n",
       "      <td>0</td>\n",
       "      <td>0</td>\n",
       "      <td>1</td>\n",
       "      <td>0</td>\n",
       "      <td>0</td>\n",
       "      <td>0</td>\n",
       "      <td>0</td>\n",
       "      <td>0</td>\n",
       "    </tr>\n",
       "  </tbody>\n",
       "</table>\n",
       "<p>57561 rows × 29 columns</p>\n",
       "</div>"
      ],
      "text/plain": [
       "       offer_reward  offer_difficulty  offer_duration  channel_email  \\\n",
       "0                 5                 5               7              1   \n",
       "1                 5                 5               5              1   \n",
       "2                10                10               7              1   \n",
       "3                 0                 0               3              1   \n",
       "4                 5                 5               7              1   \n",
       "...             ...               ...             ...            ...   \n",
       "76270             0                 0               3              1   \n",
       "76271             0                 0               3              1   \n",
       "76273             0                 0               3              1   \n",
       "76274             0                 0               3              1   \n",
       "76276             0                 0               3              1   \n",
       "\n",
       "       channel_mobile  channel_social  channel_web  offer_type_bogo  \\\n",
       "0                   1               0            1                1   \n",
       "1                   1               1            1                1   \n",
       "2                   1               1            0                1   \n",
       "3                   1               1            0                0   \n",
       "4                   1               0            1                1   \n",
       "...               ...             ...          ...              ...   \n",
       "76270               1               1            0                0   \n",
       "76271               1               1            0                0   \n",
       "76273               1               1            0                0   \n",
       "76274               1               1            0                0   \n",
       "76276               1               1            0                0   \n",
       "\n",
       "       offer_type_discount  offer_type_informational  ...  \\\n",
       "0                        0                         0  ...   \n",
       "1                        0                         0  ...   \n",
       "2                        0                         0  ...   \n",
       "3                        0                         1  ...   \n",
       "4                        0                         0  ...   \n",
       "...                    ...                       ...  ...   \n",
       "76270                    0                         1  ...   \n",
       "76271                    0                         1  ...   \n",
       "76273                    0                         1  ...   \n",
       "76274                    0                         1  ...   \n",
       "76276                    0                         1  ...   \n",
       "\n",
       "       member_days_(1100.8, 1465.4]  member_days_(1465.4, 1830.0]  \\\n",
       "0                                 0                             0   \n",
       "1                                 0                             0   \n",
       "2                                 0                             0   \n",
       "3                                 0                             0   \n",
       "4                                 1                             0   \n",
       "...                             ...                           ...   \n",
       "76270                             0                             0   \n",
       "76271                             0                             0   \n",
       "76273                             0                             0   \n",
       "76274                             0                             0   \n",
       "76276                             0                             0   \n",
       "\n",
       "       member_days_nan  income_(29910.0, 48000.0]  income_(48000.0, 66000.0]  \\\n",
       "0                    0                          0                          0   \n",
       "1                    0                          0                          0   \n",
       "2                    0                          0                          0   \n",
       "3                    0                          0                          0   \n",
       "4                    0                          1                          0   \n",
       "...                ...                        ...                        ...   \n",
       "76270                0                          0                          0   \n",
       "76271                0                          0                          0   \n",
       "76273                0                          0                          1   \n",
       "76274                0                          0                          1   \n",
       "76276                0                          0                          1   \n",
       "\n",
       "       income_(66000.0, 84000.0]  income_(84000.0, 102000.0]  \\\n",
       "0                              0                           1   \n",
       "1                              0                           1   \n",
       "2                              0                           1   \n",
       "3                              0                           1   \n",
       "4                              0                           0   \n",
       "...                          ...                         ...   \n",
       "76270                          1                           0   \n",
       "76271                          1                           0   \n",
       "76273                          0                           0   \n",
       "76274                          0                           0   \n",
       "76276                          0                           0   \n",
       "\n",
       "       income_(102000.0, 120000.0]  income_nan  offer_viewed_then_completed  \n",
       "0                                0           0                            1  \n",
       "1                                0           0                            0  \n",
       "2                                0           0                            1  \n",
       "3                                0           0                            0  \n",
       "4                                0           0                            0  \n",
       "...                            ...         ...                          ...  \n",
       "76270                            0           0                            0  \n",
       "76271                            0           0                            0  \n",
       "76273                            0           0                            0  \n",
       "76274                            0           0                            0  \n",
       "76276                            0           0                            0  \n",
       "\n",
       "[57561 rows x 29 columns]"
      ]
     },
     "execution_count": 66,
     "metadata": {},
     "output_type": "execute_result"
    }
   ],
   "source": [
    "responses_df"
   ]
  },
  {
   "cell_type": "markdown",
   "metadata": {},
   "source": [
    "# Modelling implementation and refinement"
   ]
  },
  {
   "cell_type": "code",
   "execution_count": 67,
   "metadata": {},
   "outputs": [],
   "source": [
    "# Create X dataframe with all the features - remove the response variable\n",
    "X = responses_df.drop(labels=['offer_viewed_then_completed'], axis=1)"
   ]
  },
  {
   "cell_type": "code",
   "execution_count": 68,
   "metadata": {},
   "outputs": [
    {
     "data": {
      "text/plain": [
       "(57561, 28)"
      ]
     },
     "execution_count": 68,
     "metadata": {},
     "output_type": "execute_result"
    }
   ],
   "source": [
    "# Check the shape of X\n",
    "X.shape"
   ]
  },
  {
   "cell_type": "code",
   "execution_count": 69,
   "metadata": {},
   "outputs": [],
   "source": [
    "# Create the y response series - only the response variable\n",
    "y = responses_df['offer_viewed_then_completed']"
   ]
  },
  {
   "cell_type": "code",
   "execution_count": 70,
   "metadata": {},
   "outputs": [
    {
     "data": {
      "text/plain": [
       "(57561,)"
      ]
     },
     "execution_count": 70,
     "metadata": {},
     "output_type": "execute_result"
    }
   ],
   "source": [
    "# Check the shape of y\n",
    "y.shape"
   ]
  },
  {
   "cell_type": "code",
   "execution_count": 71,
   "metadata": {},
   "outputs": [],
   "source": [
    "# Originally I had split into three - train test and val - however not necessary as cross_val score does train - val split\n",
    "\n",
    "# Only one train test split required\n",
    "X_train, X_test, y_train, y_test = train_test_split(\n",
    "                    X, y, test_size=0.2, random_state=42)\n"
   ]
  },
  {
   "cell_type": "code",
   "execution_count": 72,
   "metadata": {},
   "outputs": [
    {
     "name": "stdout",
     "output_type": "stream",
     "text": [
      "(46048, 28) (11513, 28)\n"
     ]
    }
   ],
   "source": [
    "# Check shape of train test and val\n",
    "print(X_train.shape, X_test.shape)"
   ]
  },
  {
   "cell_type": "markdown",
   "metadata": {},
   "source": [
    "## Using Decision Tree Classifier"
   ]
  },
  {
   "cell_type": "code",
   "execution_count": 73,
   "metadata": {},
   "outputs": [],
   "source": [
    "# Instantiate model\n",
    "\n",
    "# NB - had to remove member_since_date from the df as this was the wrong data type for the classifier\n",
    "\n",
    "# Need to reengineer this feature in as a float declaring number of days membership duration - perhaps in buckets and one hot encoded\n",
    "\n",
    "\n",
    "clf = DecisionTreeClassifier(random_state=42)\n"
   ]
  },
  {
   "cell_type": "markdown",
   "metadata": {},
   "source": [
    "### Model evaluation and validation"
   ]
  },
  {
   "cell_type": "code",
   "execution_count": 74,
   "metadata": {},
   "outputs": [
    {
     "data": {
      "text/plain": [
       "0.7222246387270287"
      ]
     },
     "execution_count": 74,
     "metadata": {},
     "output_type": "execute_result"
    }
   ],
   "source": [
    "# Find the cross validation score on X_train, y_train\n",
    "\n",
    "# First attempt, no tuning or feature engineering, got to 0.70 \n",
    "# Second attempt, no tuning; feature engineering to bin income and duration, got to 0.72\n",
    "# Final model (lower down using RandomForest with parameter tuning) got to 0.75\n",
    "\n",
    "cross_val_score(clf, X_train, y_train, cv=10).mean()"
   ]
  },
  {
   "cell_type": "code",
   "execution_count": 75,
   "metadata": {},
   "outputs": [
    {
     "data": {
      "text/plain": [
       "array([2.05672383e-01, 1.15764656e-02, 1.00057693e-02, 0.00000000e+00,\n",
       "       2.98860102e-04, 5.10405362e-02, 4.21452387e-03, 1.20888050e-02,\n",
       "       7.44337845e-03, 0.00000000e+00, 3.00408996e-01, 2.62672082e-01,\n",
       "       1.17255474e-02, 1.83667821e-02, 3.44065560e-03, 0.00000000e+00,\n",
       "       4.79783684e-02, 1.15193774e-02, 1.23314106e-02, 8.02799789e-03,\n",
       "       8.56168205e-03, 0.00000000e+00, 1.46270939e-03, 4.11414303e-03,\n",
       "       3.73804704e-03, 2.35532023e-03, 9.56159505e-04, 0.00000000e+00])"
      ]
     },
     "execution_count": 75,
     "metadata": {},
     "output_type": "execute_result"
    }
   ],
   "source": [
    "# Assess importance by feature\n",
    "clf.fit(X_train, y_train)\n",
    "clf.feature_importances_"
   ]
  },
  {
   "cell_type": "code",
   "execution_count": 76,
   "metadata": {},
   "outputs": [
    {
     "data": {
      "text/plain": [
       "array([0.20131385, 0.04457305, 0.03877041, 0.        , 0.00075573,\n",
       "       0.1554378 , 0.00722507, 0.05674514, 0.0338082 , 0.        ,\n",
       "       0.2529795 , 0.26657835, 0.0399127 , 0.08594293, 0.00232801,\n",
       "       0.        , 0.16090384, 0.02159703, 0.01699314, 0.01461301,\n",
       "       0.0140853 , 0.        , 0.00145935, 0.01654795, 0.0062652 ,\n",
       "       0.0026038 , 0.00073619, 0.        ])"
      ]
     },
     "execution_count": 76,
     "metadata": {},
     "output_type": "execute_result"
    }
   ],
   "source": [
    "# Assess importance by feature using permutation importance\n",
    "result = permutation_importance(clf, X_train, y_train, n_repeats=10)\n",
    "result.importances_mean"
   ]
  },
  {
   "cell_type": "code",
   "execution_count": 77,
   "metadata": {},
   "outputs": [
    {
     "data": {
      "image/png": "[encoded data removed]",
      "text/plain": [
       "<Figure size 432x288 with 1 Axes>"
      ]
     },
     "metadata": {
      "needs_background": "light"
     },
     "output_type": "display_data"
    }
   ],
   "source": [
    "# Plot the importance by feature for Decision Tree Classifier\n",
    "fig = plt.figure()\n",
    "plt.rcParams[\"figure.figsize\"] = (20,15)\n",
    "plt.rcParams.update({'font.size': 30})\n",
    "ax = fig.add_axes([0,0,1,1])\n",
    "features = X.columns\n",
    "importance = result.importances_mean\n",
    "ax.barh(features,importance)\n",
    "plt.show()"
   ]
  },
  {
   "cell_type": "code",
   "execution_count": 78,
   "metadata": {},
   "outputs": [],
   "source": [
    "# Make predictions on test dataset\n",
    "y_preds = clf.predict(X_test)"
   ]
  },
  {
   "cell_type": "code",
   "execution_count": 79,
   "metadata": {},
   "outputs": [
    {
     "data": {
      "text/plain": [
       "0.7199687309997395"
      ]
     },
     "execution_count": 79,
     "metadata": {},
     "output_type": "execute_result"
    }
   ],
   "source": [
    "# Score predictions on test set (unseen)\n",
    "clf.score(X_test, y_test)"
   ]
  },
  {
   "cell_type": "code",
   "execution_count": 87,
   "metadata": {},
   "outputs": [
    {
     "data": {
      "text/plain": [
       "<bound method BaseEstimator.get_params of DecisionTreeClassifier(ccp_alpha=0.0, class_weight=None, criterion='gini',\n",
       "                       max_depth=None, max_features=None, max_leaf_nodes=None,\n",
       "                       min_impurity_decrease=0.0, min_impurity_split=None,\n",
       "                       min_samples_leaf=1, min_samples_split=2,\n",
       "                       min_weight_fraction_leaf=0.0, presort='deprecated',\n",
       "                       random_state=42, splitter='best')>"
      ]
     },
     "execution_count": 87,
     "metadata": {},
     "output_type": "execute_result"
    }
   ],
   "source": [
    "# show hyperparameters\n",
    "clf.get_params"
   ]
  },
  {
   "cell_type": "code",
   "execution_count": 80,
   "metadata": {},
   "outputs": [
    {
     "data": {
      "text/plain": [
       "<sklearn.metrics._plot.confusion_matrix.ConfusionMatrixDisplay at 0x1f3a8642250>"
      ]
     },
     "execution_count": 80,
     "metadata": {},
     "output_type": "execute_result"
    },
    {
     "data": {
      "image/png": "[encoded data removed]",
      "text/plain": [
       "<Figure size 1440x1080 with 2 Axes>"
      ]
     },
     "metadata": {
      "needs_background": "light"
     },
     "output_type": "display_data"
    }
   ],
   "source": [
    "# Build confusion matrix to visualise tp, fp, tn, fn)\n",
    "cm = confusion_matrix(y_test, y_preds, labels=clf.classes_)\n",
    "disp = ConfusionMatrixDisplay(confusion_matrix=cm,\n",
    "                                display_labels=clf.classes_)\n",
    "disp.plot() "
   ]
  },
  {
   "cell_type": "code",
   "execution_count": 81,
   "metadata": {},
   "outputs": [
    {
     "data": {
      "text/plain": [
       "array([[5903, 1526],\n",
       "       [1698, 2386]], dtype=int64)"
      ]
     },
     "execution_count": 81,
     "metadata": {},
     "output_type": "execute_result"
    }
   ],
   "source": [
    "# View confusion matrix array\n",
    "cm"
   ]
  },
  {
   "cell_type": "markdown",
   "metadata": {},
   "source": [
    "## Using RandomForestClassifier"
   ]
  },
  {
   "cell_type": "code",
   "execution_count": 94,
   "metadata": {},
   "outputs": [],
   "source": [
    "# Instantiate classifier\n",
    "clfRF = RandomForestClassifier(max_depth=5, min_samples_leaf=4, n_estimators=200, random_state=42)"
   ]
  },
  {
   "cell_type": "markdown",
   "metadata": {},
   "source": [
    "### Evaluation and validation"
   ]
  },
  {
   "cell_type": "code",
   "execution_count": 100,
   "metadata": {},
   "outputs": [
    {
     "data": {
      "text/plain": [
       "array([0.75331162, 0.75808903, 0.74549403, 0.74766558, 0.7606949 ,\n",
       "       0.75135722, 0.74549403, 0.75222584, 0.76172893, 0.75977411])"
      ]
     },
     "execution_count": 100,
     "metadata": {},
     "output_type": "execute_result"
    }
   ],
   "source": [
    "# Find the cross validation score on X_train, y_train\n",
    "cross_val_score(clfRF, X_train, y_train, cv=10)"
   ]
  },
  {
   "cell_type": "code",
   "execution_count": 96,
   "metadata": {},
   "outputs": [
    {
     "data": {
      "text/plain": [
       "array([0.1663997 , 0.16704722, 0.14557946, 0.        , 0.01694954,\n",
       "       0.10442144, 0.01673365, 0.02621546, 0.02856374, 0.15329831,\n",
       "       0.00597253, 0.02295878, 0.0039895 , 0.00714876, 0.0001919 ,\n",
       "       0.        , 0.07178612, 0.01887529, 0.02461818, 0.00071437,\n",
       "       0.00098782, 0.        , 0.01427617, 0.0003034 , 0.00069364,\n",
       "       0.00183459, 0.00044044, 0.        ])"
      ]
     },
     "execution_count": 96,
     "metadata": {},
     "output_type": "execute_result"
    }
   ],
   "source": [
    "# Assess feature importance\n",
    "clfRF.fit(X_train, y_train)\n",
    "clfRF.feature_importances_"
   ]
  },
  {
   "cell_type": "code",
   "execution_count": 97,
   "metadata": {
    "scrolled": true
   },
   "outputs": [
    {
     "data": {
      "text/plain": [
       "array([1.58291348e-02, 1.47737144e-02, 1.52949097e-02, 0.00000000e+00,\n",
       "       7.75277971e-04, 4.01190063e-02, 2.53865532e-03, 8.73002085e-04,\n",
       "       7.10562891e-03, 1.40440410e-02, 1.22263725e-03, 2.92520848e-03,\n",
       "       5.19023628e-04, 1.73080264e-03, 1.95448228e-04, 0.00000000e+00,\n",
       "       2.39011466e-02, 2.04786310e-03, 4.47576442e-03, 5.21195274e-04,\n",
       "       3.93068103e-04, 0.00000000e+00, 1.03153231e-03, 3.30090341e-04,\n",
       "       4.08269632e-04, 3.25747047e-05, 1.10536831e-03, 0.00000000e+00])"
      ]
     },
     "execution_count": 97,
     "metadata": {},
     "output_type": "execute_result"
    }
   ],
   "source": [
    "# Assess feature importance using permuation importance\n",
    "result = permutation_importance(clfRF, X_train, y_train, n_repeats=10)\n",
    "result.importances_mean"
   ]
  },
  {
   "cell_type": "code",
   "execution_count": 98,
   "metadata": {
    "scrolled": true
   },
   "outputs": [
    {
     "data": {
      "image/png": "[encoded data removed]",
      "text/plain": [
       "<Figure size 2160x2880 with 1 Axes>"
      ]
     },
     "metadata": {
      "needs_background": "light"
     },
     "output_type": "display_data"
    }
   ],
   "source": [
    "# Plot permutation importance to visualise features\n",
    "fig = plt.figure()\n",
    "plt.rcParams[\"figure.figsize\"] = (30,40)\n",
    "plt.rcParams.update({'font.size': 40})\n",
    "ax = fig.add_axes([0,0,1,1])\n",
    "features = X.columns\n",
    "importance = result.importances_mean\n",
    "ax.barh(features,importance)\n",
    "plt.show()\n",
    "\n"
   ]
  },
  {
   "cell_type": "code",
   "execution_count": 99,
   "metadata": {},
   "outputs": [
    {
     "data": {
      "text/plain": [
       "<bound method BaseEstimator.get_params of RandomForestClassifier(bootstrap=True, ccp_alpha=0.0, class_weight=None,\n",
       "                       criterion='gini', max_depth=5, max_features='auto',\n",
       "                       max_leaf_nodes=None, max_samples=None,\n",
       "                       min_impurity_decrease=0.0, min_impurity_split=None,\n",
       "                       min_samples_leaf=4, min_samples_split=2,\n",
       "                       min_weight_fraction_leaf=0.0, n_estimators=200,\n",
       "                       n_jobs=None, oob_score=False, random_state=42, verbose=0,\n",
       "                       warm_start=False)>"
      ]
     },
     "execution_count": 99,
     "metadata": {},
     "output_type": "execute_result"
    }
   ],
   "source": [
    "# show hyperparameters\n",
    "clfRF.get_params"
   ]
  },
  {
   "cell_type": "markdown",
   "metadata": {},
   "source": [
    "# Results"
   ]
  },
  {
   "cell_type": "markdown",
   "metadata": {},
   "source": [
    "## Model evaluation, validation and justification"
   ]
  },
  {
   "cell_type": "markdown",
   "metadata": {},
   "source": [
    "Initially a Decision Tree Classifier was used for the model.  This achieved a 0.70 accuracy at first and this was improved to 0.72 through refining of the features - notably through creating bins of some of the continuous features such as income.\n",
    "\n",
    "A Random Forest Classifier was then used to apply a more ensemble technique for greater predictive capability.  Initially this yielded a 0.69 accuracy score, but this was refined through parameter tuning to achieve a 0.75 accuracy which is the best score achieved and is the final model for this project.  The key parameter that yielded this improvement was increasing the maximum depth level from 2 up to 5 to allow more branching.  We would not want to increase depth level too high for risk of overfitting our model.\n",
    "\n",
    "An accuracy of 0.75, while not a perfect prediction rate, will at least provide Starbucks with more accuracy than they previously had when no machine learning model was applied to the decision around whether to send out offers.\n",
    "\n",
    "Further validation could be achieved on an ongoing basis by implementing this algorithm in the next promotional period - but also holding back a control group through a clear experimental design process (the control group being where promo offers are selected at random, or using the old method).  The uptake % of promotions of the test group (with this algortitm) versus the control group would help to validate whether this algorithm performs better than the control - as long as the sample size is large enough for statistical significance.\n",
    "\n",
    "In terms of the driving factors around the success metric - the permutation feature importance yielded some interesting results as shown in the bar charts, around which features had the greatest impact on the predictions from the model.  Income and age were strong features in driving model output, along with whether a member was in the newest member category, whether the channel of communication was social and what level of reward was attached to the offer.\n",
    "\n",
    "\n"
   ]
  },
  {
   "cell_type": "markdown",
   "metadata": {},
   "source": [
    "# Conclusion"
   ]
  },
  {
   "cell_type": "markdown",
   "metadata": {},
   "source": [
    "### Reflection"
   ]
  },
  {
   "cell_type": "markdown",
   "metadata": {},
   "source": [
    "This Random Forest Classifier model has achieved what I set out to do in the problem statement, in that it provides a method for Starbucks to apply predicitve analytics to the question - \"Should we send this offer to that customer?\".  For each customer/offer combo - they would simply need to apply the clfRF.predict method and this would return a 1 or 0 to indicate whether or not that customer is expected to view and complete the offer.\n",
    "\n",
    "This would have a signficant value adding impact to Starbucks - and could be tuned further to deliver some prescriptive analytics to determine exactly who to send offers and which offers to send them.  For example, we know from the feature importance array that offer_reward is a strong determiner of offer uptake - but, for each customer, a prescriptive model could optimise a strategy where customers are sent an offer with a reward that is 'just strong enough' for that particular customer.  Many customers may be enticed by a 5 dollar discount - yet in the past have been receiving 10 dollar discounts which is more than they need.  Furthermore, other customers may be getting turned off by receiving offers - and this algorithm would stop them being sent an offer in the first place.\n",
    "\n",
    "I found the data preprocessing and preparation stages the most difficult part of this project.  This was due to the complexities in the experiment period around timings between offers received, viewed and completed, along with the nuances and many edge cases that were possible - e.g. a customer completing on an offer, even though they did not view it (therefore - that had to be classed as 'not a success' as far as Starbucks is concerned).\n",
    "\n",
    "I also came across difficulties at the modelling stage with errors from fitting the Decision Tree Classifier.  This was the result of wrong data types (I still had the datetime object in the matrix for 'became_member_on').  I re-worked the upstream data preprocessing to remove this and replace it with a duration measure of how long a member had been with Starbucks.  This was a good solution for two reasons - first it enable the classifier to work, and secondly it ended up being a key feature in improving the model accuracy."
   ]
  },
  {
   "cell_type": "markdown",
   "metadata": {},
   "source": [
    "### Potential improvements to methodology and modelling"
   ]
  },
  {
   "cell_type": "markdown",
   "metadata": {},
   "source": [
    "In terms of speed of performance, I would like to have spent more time on the two functions that slow down this whole workbook - namely, the functions \"find_offer_viewed_time\" and \"find_offer_completed_time\".  These are both operating on a df.apply basis which is effectively a 'for loop' and is rather slow to run through such a large dataframe.  Ideally I would like to investigate a vectorised solution to this lookup - perhaps using np.where.\n",
    "\n",
    "\n",
    "Furthermore, this accuracy level might be improved in future through either exploring other machine learning models or in applying more detailed feature engineering and principle component analysis.\n",
    "\n",
    "As a delivery and implementation mechanism, this machine learning model could be built into the Starbucks internal promotion and offer system through a DevOps strategy to lock in benefits on all future promotions.  Alternatively, it could be built as a web application for the promotions department to use as a validation tool before sending out future promotions - i.e. flagging on their proposed list which of the customers are not likely to respond or are likely to respond negatively to the offer."
   ]
  }
 ],
 "metadata": {
  "kernelspec": {
   "display_name": "Python 3",
   "language": "python",
   "name": "python3"
  },
  "language_info": {
   "codemirror_mode": {
    "name": "ipython",
    "version": 3
   },
   "file_extension": ".py",
   "mimetype": "text/x-python",
   "name": "python",
   "nbconvert_exporter": "python",
   "pygments_lexer": "ipython3",
   "version": "3.8.0"
  }
 },
 "nbformat": 4,
 "nbformat_minor": 2
}
